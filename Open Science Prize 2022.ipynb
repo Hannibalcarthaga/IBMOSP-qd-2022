{
 "cells": [
  {
   "cell_type": "markdown",
   "id": "6fc0a7e0",
   "metadata": {},
   "source": [
    "**SOLUTION IS BASED ON QISKIT DEFAULTS CATEGORY**"
   ]
  },
  {
   "cell_type": "markdown",
   "id": "0da705f7",
   "metadata": {},
   "source": [
    "**1.1) Implementing the circuit**"
   ]
  },
  {
   "cell_type": "markdown",
   "id": "d6fa3360",
   "metadata": {},
   "source": [
    "Here we implement the circuit as shown in the jupyter notebook provided in the github documents of the competition.\n",
    "The intention behind doing this is to set a datum for further improvement.<br><br>\n",
    "We have tried to determine the highest number of possible Trotter steps that can be created where the fidelity shows an increasing trend.\n",
    "This number turned out to be $n=9$ Trotter steps, after which the fidelity does increase with the number of Trotter steps.<br><br>\n",
    "Although this satisfies the minimum Trotter step criteria $n \\ge 4$, it however does not satisfy the minimum fidelity criteria ($\\ge 30 \\%$) even for the ${noisy \\ simulator}$.<br><br>\n",
    "\n",
    "In the code only the solution for $n=9$ Trotter steps is presented.\n"
   ]
  },
  {
   "cell_type": "code",
   "execution_count": 1,
   "id": "e19e51fa",
   "metadata": {},
   "outputs": [],
   "source": [
    "import qiskit\n",
    "\n",
    "import numpy as np\n",
    "import matplotlib.pyplot as plt\n",
    "plt.rcParams.update({'font.size' : 16})\n",
    "\n",
    "#Import qubit states Zero (|0>) and One (|1>), and Pauli operators (X, Y, Z)\n",
    "from qiskit.opflow import Zero, One, I, X, Z\n",
    "\n",
    "#Supress Warnings\n",
    "import warnings\n",
    "warnings.filterwarnings('ignore')"
   ]
  },
  {
   "cell_type": "markdown",
   "id": "c77d36fe",
   "metadata": {},
   "source": [
    "**1.2) The XXX Heisenberg Hamiltonian**"
   ]
  },
  {
   "cell_type": "code",
   "execution_count": 2,
   "id": "5443d61f",
   "metadata": {},
   "outputs": [],
   "source": [
    "#Returns the matrix representation of the XXX Heisenberg model for 3 spin-1/2 particles in a line\n",
    "def H_heis3():\n",
    "    #interaction  (I is the idenstity matrix; X, Y and Pauli matrices; ^ is a tensor product)\n",
    "    XXs = (I^X^X) + (X^X^I)\n",
    "    YYs = (I^Y^Y) + (Y^Y^I)\n",
    "    ZZs = (I^Z^Z) + (Z^Z^I)\n",
    "    \n",
    "    #Sum interactions\n",
    "    H = XXs + YYs + ZZs\n",
    "    \n",
    "    #Return Hamiltonian\n",
    "    return H"
   ]
  },
  {
   "cell_type": "code",
   "execution_count": 3,
   "id": "70ea5337",
   "metadata": {},
   "outputs": [],
   "source": [
    "#Returns the matrix representation of U_heis3(t) foragiven time t assuming a XXX Heisenberg Hamiltonian for 3 spin-1/2 particles in a line\n",
    "def U_heis3(t):\n",
    "    #Compute XXX Hamiltonian for 3 spins in a line\n",
    "    H = H_heis3\n",
    "    \n",
    "    #Return the exponential of -i multiplied by time t multiplied by the 3 spin XXX Heisenberg Hamiltonian\n",
    "    return (t * H).exp_i()"
   ]
  },
  {
   "cell_type": "code",
   "execution_count": 2,
   "id": "9d6770ff",
   "metadata": {},
   "outputs": [],
   "source": [
    "#Importing standard Qiskit modules\n",
    "from qiskit import QuantumCircuit, QuantumRegister, IBMQ, execute, transpile\n",
    "from qiskit.providers.aer import QasmSimulator\n",
    "from qiskit.tools.monitor import job_monitor\n",
    "from qiskit.circuit import Parameter\n",
    "\n",
    "#Import state tomography modules\n",
    "from qiskit.ignis.verification.tomography import state_tomography_circuits, StateTomographyFitter\n",
    "from qiskit.quantum_info import state_fidelity\n",
    "\n",
    "#supress warnings\n",
    "import warnings\n",
    "warnings.filterwarnings('ignore')"
   ]
  },
  {
   "cell_type": "code",
   "execution_count": 3,
   "id": "e32aa794",
   "metadata": {},
   "outputs": [],
   "source": [
    "provider = IBMQ.load_account()"
   ]
  },
  {
   "cell_type": "code",
   "execution_count": 4,
   "id": "ff7db47d",
   "metadata": {},
   "outputs": [],
   "source": [
    "#get backend for experiment\n",
    "provider = IBMQ.get_provider(hub = 'ibm-q-community', group = 'ibmquantumawards', project = 'open-science-22')\n",
    "jakarta = provider.get_backend('ibmq_jakarta')\n",
    "\n",
    "#simulated backend based on ibmq-jakarta's noise profile\n",
    "sim_noisy_jakarta = QasmSimulator.from_backend(provider.get_backend('ibmq_jakarta'))\n",
    "\n",
    "#noiseless simulated backend\n",
    "sim = QasmSimulator"
   ]
  },
  {
   "cell_type": "markdown",
   "id": "cb98685e",
   "metadata": {},
   "source": [
    "**1.3) The 6-CNOT gate approach**"
   ]
  },
  {
   "cell_type": "markdown",
   "id": "e7bfbb79",
   "metadata": {},
   "source": [
    "This approach was presented in the example notebook. To determine the efficiancy of this approach I have increased the number of Trotter steps and find the upper bound where it gives maximum fidelity. For this circuit the maximum number of Trotter steps for which the fidelity increases linearly is $n = 9$"
   ]
  },
  {
   "cell_type": "code",
   "execution_count": 89,
   "id": "7f8037d9",
   "metadata": {},
   "outputs": [],
   "source": [
    "t = Parameter('t')\n",
    "n = 9"
   ]
  },
  {
   "cell_type": "code",
   "execution_count": 90,
   "id": "6b9fa0fe",
   "metadata": {},
   "outputs": [],
   "source": [
    "#Build a subcircuit for the XX(t) two-qubit gate\n",
    "XX_qr = QuantumRegister(2)\n",
    "XX_qc = QuantumCircuit(XX_qr, name = 'XX')\n",
    "\n",
    "XX_qc.ry(np.pi/2, [0,1])\n",
    "XX_qc.cnot(0,1)\n",
    "XX_qc.rz((2 * t)/n, 1)\n",
    "XX_qc.cnot(0,1)\n",
    "XX_qc.ry(-np.pi/2, [0,1])\n",
    "\n",
    "#Convert custom quantum circuit into a gate\n",
    "XX = XX_qc.to_instruction()"
   ]
  },
  {
   "cell_type": "code",
   "execution_count": 91,
   "id": "ae26b406",
   "metadata": {},
   "outputs": [],
   "source": [
    "#Build a subcircuit for the YY(t) two-qubit gate\n",
    "YY_qr = QuantumRegister(2)\n",
    "YY_qc = QuantumCircuit(YY_qr, name = 'YY')\n",
    "\n",
    "YY_qc.rx(np.pi/2, [0, 1])\n",
    "YY_qc.cnot(0, 1)\n",
    "YY_qc.rz((2 * t)/n, [0,1])\n",
    "YY_qc.cnot(0, 1)\n",
    "YY_qc.rx(-np.pi/2, [0, 1])\n",
    "\n",
    "#Convert custom quantum circuit into Quantum gate\n",
    "YY = YY_qc.to_instruction()"
   ]
  },
  {
   "cell_type": "code",
   "execution_count": 92,
   "id": "744e4b64",
   "metadata": {},
   "outputs": [],
   "source": [
    "#Build subcircuit for ZZ(t) two-qubit gate\n",
    "ZZ_qr = QuantumRegister(2)\n",
    "ZZ_qc = QuantumCircuit(ZZ_qr, name = 'ZZ')\n",
    "\n",
    "ZZ_qc.cnot(0, 1)\n",
    "ZZ_qc.rz((2 * t)/n, 1)\n",
    "ZZ_qc.cnot(0, 1)\n",
    "\n",
    "#Convert custom quantum circuit into Quantum gate\n",
    "ZZ = ZZ_qc.to_instruction()"
   ]
  },
  {
   "cell_type": "code",
   "execution_count": 93,
   "id": "ca5292e3",
   "metadata": {},
   "outputs": [],
   "source": [
    "#Combine subcircuits into single multiqubit gate representaing single trotter step\n",
    "num_qubits = 3\n",
    "\n",
    "Trot_qr = QuantumRegister(num_qubits)\n",
    "Trot_qc = QuantumCircuit(Trot_qr, name = 'Trot')\n",
    "\n",
    "for i in range(0, num_qubits - 1):\n",
    "    Trot_qc.append(ZZ, [Trot_qr[i], Trot_qr[i + 1]])\n",
    "    Trot_qc.append(YY, [Trot_qr[i], Trot_qr[i + 1]])\n",
    "    Trot_qc.append(XX, [Trot_qr[i], Trot_qr[i + 1]])\n",
    "    \n",
    "#Convert custom quantum Circuit into a gate\n",
    "Trot_gate = Trot_qc.to_instruction()"
   ]
  },
  {
   "cell_type": "code",
   "execution_count": 94,
   "id": "8a94072e",
   "metadata": {},
   "outputs": [
    {
     "data": {
      "text/html": [
       "<pre style=\"word-wrap: normal;white-space: pre;background: #fff0;line-height: 1.1;font-family: &quot;Courier New&quot;,Courier,monospace\">                                                                       »\n",
       "q86560_0: ─────────────────────────────────────────────────────────────»\n",
       "               ┌────────────┐┌────────────┐┌────────────┐┌────────────┐»\n",
       "q86560_1: ─────┤0           ├┤0           ├┤0           ├┤0           ├»\n",
       "               │            ││            ││            ││            │»\n",
       "q86560_2: ─────┤            ├┤            ├┤            ├┤            ├»\n",
       "          ┌───┐│            ││            ││            ││            │»\n",
       "q86560_3: ┤ X ├┤1 Trot(π/9) ├┤1 Trot(π/9) ├┤1 Trot(π/9) ├┤1 Trot(π/9) ├»\n",
       "          └───┘│            ││            ││            ││            │»\n",
       "q86560_4: ─────┤            ├┤            ├┤            ├┤            ├»\n",
       "          ┌───┐│            ││            ││            ││            │»\n",
       "q86560_5: ┤ X ├┤2           ├┤2           ├┤2           ├┤2           ├»\n",
       "          └───┘└────────────┘└────────────┘└────────────┘└────────────┘»\n",
       "q86560_6: ─────────────────────────────────────────────────────────────»\n",
       "                                                                       »\n",
       "    c9: 3/═════════════════════════════════════════════════════════════»\n",
       "                                                                       »\n",
       "«                                                                  »\n",
       "«q86560_0: ────────────────────────────────────────────────────────»\n",
       "«          ┌────────────┐┌────────────┐┌────────────┐┌────────────┐»\n",
       "«q86560_1: ┤0           ├┤0           ├┤0           ├┤0           ├»\n",
       "«          │            ││            ││            ││            │»\n",
       "«q86560_2: ┤            ├┤            ├┤            ├┤            ├»\n",
       "«          │            ││            ││            ││            │»\n",
       "«q86560_3: ┤1 Trot(π/9) ├┤1 Trot(π/9) ├┤1 Trot(π/9) ├┤1 Trot(π/9) ├»\n",
       "«          │            ││            ││            ││            │»\n",
       "«q86560_4: ┤            ├┤            ├┤            ├┤            ├»\n",
       "«          │            ││            ││            ││            │»\n",
       "«q86560_5: ┤2           ├┤2           ├┤2           ├┤2           ├»\n",
       "«          └────────────┘└────────────┘└────────────┘└────────────┘»\n",
       "«q86560_6: ────────────────────────────────────────────────────────»\n",
       "«                                                                  »\n",
       "«    c9: 3/════════════════════════════════════════════════════════»\n",
       "«                                                                  »\n",
       "«                         ░          \n",
       "«q86560_0: ───────────────░──────────\n",
       "«          ┌────────────┐ ░ ┌─┐      \n",
       "«q86560_1: ┤0           ├─░─┤M├──────\n",
       "«          │            │ ░ └╥┘      \n",
       "«q86560_2: ┤            ├─░──╫───────\n",
       "«          │            │ ░  ║ ┌─┐   \n",
       "«q86560_3: ┤1 Trot(π/9) ├─░──╫─┤M├───\n",
       "«          │            │ ░  ║ └╥┘   \n",
       "«q86560_4: ┤            ├─░──╫──╫────\n",
       "«          │            │ ░  ║  ║ ┌─┐\n",
       "«q86560_5: ┤2           ├─░──╫──╫─┤M├\n",
       "«          └────────────┘ ░  ║  ║ └╥┘\n",
       "«q86560_6: ───────────────░──╫──╫──╫─\n",
       "«                         ░  ║  ║  ║ \n",
       "«    c9: 3/══════════════════╩══╩══╩═\n",
       "«                            0  1  2 </pre>"
      ],
      "text/plain": [
       "                                                                       »\n",
       "q86560_0: ─────────────────────────────────────────────────────────────»\n",
       "               ┌────────────┐┌────────────┐┌────────────┐┌────────────┐»\n",
       "q86560_1: ─────┤0           ├┤0           ├┤0           ├┤0           ├»\n",
       "               │            ││            ││            ││            │»\n",
       "q86560_2: ─────┤            ├┤            ├┤            ├┤            ├»\n",
       "          ┌───┐│            ││            ││            ││            │»\n",
       "q86560_3: ┤ X ├┤1 Trot(π/9) ├┤1 Trot(π/9) ├┤1 Trot(π/9) ├┤1 Trot(π/9) ├»\n",
       "          └───┘│            ││            ││            ││            │»\n",
       "q86560_4: ─────┤            ├┤            ├┤            ├┤            ├»\n",
       "          ┌───┐│            ││            ││            ││            │»\n",
       "q86560_5: ┤ X ├┤2           ├┤2           ├┤2           ├┤2           ├»\n",
       "          └───┘└────────────┘└────────────┘└────────────┘└────────────┘»\n",
       "q86560_6: ─────────────────────────────────────────────────────────────»\n",
       "                                                                       »\n",
       "    c9: 3/═════════════════════════════════════════════════════════════»\n",
       "                                                                       »\n",
       "«                                                                  »\n",
       "«q86560_0: ────────────────────────────────────────────────────────»\n",
       "«          ┌────────────┐┌────────────┐┌────────────┐┌────────────┐»\n",
       "«q86560_1: ┤0           ├┤0           ├┤0           ├┤0           ├»\n",
       "«          │            ││            ││            ││            │»\n",
       "«q86560_2: ┤            ├┤            ├┤            ├┤            ├»\n",
       "«          │            ││            ││            ││            │»\n",
       "«q86560_3: ┤1 Trot(π/9) ├┤1 Trot(π/9) ├┤1 Trot(π/9) ├┤1 Trot(π/9) ├»\n",
       "«          │            ││            ││            ││            │»\n",
       "«q86560_4: ┤            ├┤            ├┤            ├┤            ├»\n",
       "«          │            ││            ││            ││            │»\n",
       "«q86560_5: ┤2           ├┤2           ├┤2           ├┤2           ├»\n",
       "«          └────────────┘└────────────┘└────────────┘└────────────┘»\n",
       "«q86560_6: ────────────────────────────────────────────────────────»\n",
       "«                                                                  »\n",
       "«    c9: 3/════════════════════════════════════════════════════════»\n",
       "«                                                                  »\n",
       "«                         ░          \n",
       "«q86560_0: ───────────────░──────────\n",
       "«          ┌────────────┐ ░ ┌─┐      \n",
       "«q86560_1: ┤0           ├─░─┤M├──────\n",
       "«          │            │ ░ └╥┘      \n",
       "«q86560_2: ┤            ├─░──╫───────\n",
       "«          │            │ ░  ║ ┌─┐   \n",
       "«q86560_3: ┤1 Trot(π/9) ├─░──╫─┤M├───\n",
       "«          │            │ ░  ║ └╥┘   \n",
       "«q86560_4: ┤            ├─░──╫──╫────\n",
       "«          │            │ ░  ║  ║ ┌─┐\n",
       "«q86560_5: ┤2           ├─░──╫──╫─┤M├\n",
       "«          └────────────┘ ░  ║  ║ └╥┘\n",
       "«q86560_6: ───────────────░──╫──╫──╫─\n",
       "«                         ░  ║  ║  ║ \n",
       "«    c9: 3/══════════════════╩══╩══╩═\n",
       "«                            0  1  2 "
      ]
     },
     "execution_count": 94,
     "metadata": {},
     "output_type": "execute_result"
    }
   ],
   "source": [
    "#The final time of the state evolution\n",
    "target_time = np.pi\n",
    "\n",
    "#Number of Trotter steps\n",
    "trotter_steps = 9\n",
    "\n",
    "#Initialize quantum circuit for 3 qubits\n",
    "qr = QuantumRegister(7)\n",
    "qc = QuantumCircuit(qr)\n",
    "\n",
    "#Prepare initial step\n",
    "qc.x([3, 5])\n",
    "\n",
    "#Simulate time evolution under H_Heis3 Hamiltonian\n",
    "for _ in range(trotter_steps):\n",
    "    qc.append(Trot_gate, [qr[1], qr[3], qr[5]])\n",
    "    \n",
    "#Evaluate simulation at target_time(t=pi)\n",
    "qc = qc.bind_parameters({t: target_time/ trotter_steps})\n",
    "\n",
    "#Generate state tomography circuitsto evaluate the fidelity of the simulation\n",
    "st_qcs = state_tomography_circuits(qc, [qr[1], qr[3], qr[5]])\n",
    "\n",
    "#Display circuit for confirmation\n",
    "st_qcs[-1].decompose().draw() #view decomposition of trotter gates\n",
    "st_qcs[-1].draw()"
   ]
  },
  {
   "cell_type": "code",
   "execution_count": 95,
   "id": "0290d1d3",
   "metadata": {},
   "outputs": [
    {
     "name": "stdout",
     "output_type": "stream",
     "text": [
      "Job ID 54d8c9f8-0b37-4c46-82c4-facea537d584\n",
      "Job ID 8d38e95a-2c1b-408d-883f-de34ffac536a\n",
      "Job ID f947f70f-7dcb-4bd4-8326-b63539db4e05\n",
      "Job ID 9e206d7f-f90a-4393-9e14-cfbd51e59778\n",
      "Job ID 7741d489-6a45-470e-bb61-aa19f05e9410\n",
      "Job ID 1fbd4182-8d02-4324-90c7-6ccc708dad7f\n",
      "Job ID 10ca757c-3132-4d4b-a177-20f056fdde7e\n",
      "Job ID e936ba62-895b-4547-8122-6cebfe82732a\n"
     ]
    }
   ],
   "source": [
    "shots = 16000\n",
    "reps = 8\n",
    "backend = sim_noisy_jakarta\n",
    "\n",
    "jobs = []\n",
    "for _ in range(reps):\n",
    "    job = execute(st_qcs, backend, shots = shots)\n",
    "    print('Job ID', job.job_id())\n",
    "    jobs.append(job)"
   ]
  },
  {
   "cell_type": "code",
   "execution_count": 96,
   "id": "b1a724b1",
   "metadata": {},
   "outputs": [
    {
     "name": "stdout",
     "output_type": "stream",
     "text": [
      "\r",
      "Job Status: job has successfully run\n",
      "\r",
      "Job Status: job has successfully run\n",
      "\r",
      "Job Status: job has successfully run\n",
      "\r",
      "Job Status: job has successfully run\n",
      "\r",
      "Job Status: job has successfully run\n",
      "\r",
      "Job Status: job has successfully run\n",
      "\r",
      "Job Status: job has successfully run\n",
      "\r",
      "Job Status: job has successfully run\n"
     ]
    }
   ],
   "source": [
    "for job in jobs:\n",
    "    job_monitor(job)\n",
    "    try:\n",
    "        if job.error_message() is not None:\n",
    "            print(job.error_message())\n",
    "            \n",
    "    except:\n",
    "        pass"
   ]
  },
  {
   "cell_type": "markdown",
   "id": "236c69af",
   "metadata": {},
   "source": [
    "**1.4) State Tomography Fidelity**"
   ]
  },
  {
   "cell_type": "markdown",
   "id": "484dbd30",
   "metadata": {},
   "source": [
    "Here we calculate the fidelities of the 6-CNOT circuit by increasing the number of Trotter steps $n = 9$ as well as increasing the number of shots to 16000."
   ]
  },
  {
   "cell_type": "code",
   "execution_count": 97,
   "id": "702fb047",
   "metadata": {},
   "outputs": [
    {
     "name": "stdout",
     "output_type": "stream",
     "text": [
      "State tomography fidelity = 0.2789 ± 0.0013\n"
     ]
    }
   ],
   "source": [
    "#Compute the state tomography based on the st_qcs quantum circuits and the results\n",
    "def state_tomo(result, st_qcs):\n",
    "    #The expected final state necessary to determine the state tomography fidelity\n",
    "    target_state = (One^One^Zero).to_matrix()\n",
    "    #Fit state tomography results\n",
    "    tomo_fitter = StateTomographyFitter(result, st_qcs)\n",
    "    rho_fit = tomo_fitter.fit(method = 'lstsq')\n",
    "    #Compute fidelity\n",
    "    fid = state_fidelity(rho_fit, target_state)\n",
    "    return fid\n",
    "\n",
    "#Compute tomography fidelities for each repitition\n",
    "fids = []\n",
    "for job in jobs:\n",
    "    fid = state_tomo(job.result(), st_qcs)\n",
    "    fids.append(fid)\n",
    "    \n",
    "print('State tomography fidelity = {:.4f} \\u00B1 {:.4f}'.format(np.mean(fids), np.std(fids)))"
   ]
  },
  {
   "cell_type": "code",
   "execution_count": 71,
   "id": "e02018d0",
   "metadata": {},
   "outputs": [
    {
     "name": "stdout",
     "output_type": "stream",
     "text": [
      "Job ID 922c3284-cd80-4c5a-b7b9-5fcf102b9b41\n",
      "Job ID e3399282-32dd-4663-b9a7-08bfd50011c0\n",
      "Job ID bb514347-3a3a-4c26-8f96-d1b20e9bed88\n",
      "Job ID 28828837-bed7-448c-94e5-96873f21d154\n",
      "Job ID 735e93dd-030a-4522-b615-5b48a4442ee2\n",
      "Job ID 525610eb-a3db-4296-a5f9-783b546baf88\n",
      "Job ID ca81ed85-72ec-448a-a528-19b31829c9f7\n",
      "Job ID 548ed6e9-0a58-435c-8d9e-07872b1446c4\n"
     ]
    }
   ],
   "source": [
    "shots = 16000\n",
    "reps = 8\n",
    "backend = QasmSimulator.from_backend(backend)\n",
    "\n",
    "jobs = []\n",
    "for _ in range(reps):\n",
    "    job = execute(st_qcs, backend, shots = shots)\n",
    "    print('Job ID', job.job_id())\n",
    "    jobs.append(job)"
   ]
  },
  {
   "cell_type": "code",
   "execution_count": 72,
   "id": "f4d5e435",
   "metadata": {},
   "outputs": [
    {
     "name": "stdout",
     "output_type": "stream",
     "text": [
      "\r",
      "Job Status: job has successfully run\n",
      "\r",
      "Job Status: job has successfully run\n",
      "\r",
      "Job Status: job has successfully run\n",
      "\r",
      "Job Status: job has successfully run\n",
      "\r",
      "Job Status: job has successfully run\n",
      "\r",
      "Job Status: job has successfully run\n",
      "\r",
      "Job Status: job has successfully run\n",
      "\r",
      "Job Status: job has successfully run\n"
     ]
    }
   ],
   "source": [
    "for job in jobs:\n",
    "    job_monitor(job)\n",
    "    try:\n",
    "        if job.error_message() is not None:\n",
    "            print(job.error_message())\n",
    "            \n",
    "    except:\n",
    "        pass"
   ]
  },
  {
   "cell_type": "code",
   "execution_count": 73,
   "id": "02f8ea6c",
   "metadata": {},
   "outputs": [
    {
     "name": "stdout",
     "output_type": "stream",
     "text": [
      "State tomography fidelity = 0.2792 ± 0.0011\n"
     ]
    }
   ],
   "source": [
    "#Compute the state tomography based on the st_qcs quantum circuits and the results\n",
    "def state_tomo(result, st_qcs):\n",
    "    #The expected final state necessary to determine the state tomography fidelity\n",
    "    target_state = (One^One^Zero).to_matrix()\n",
    "    #Fit state tomography results\n",
    "    tomo_fitter = StateTomographyFitter(result, st_qcs)\n",
    "    rho_fit = tomo_fitter.fit(method = 'lstsq')\n",
    "    #Compute fidelity\n",
    "    fid = state_fidelity(rho_fit, target_state)\n",
    "    return fid\n",
    "\n",
    "#Compute tomography fidelities for each repitition\n",
    "fids = []\n",
    "for job in jobs:\n",
    "    fid = state_tomo(job.result(), st_qcs)\n",
    "    fids.append(fid)\n",
    "    \n",
    "print('State tomography fidelity = {:.4f} \\u00B1 {:.4f}'.format(np.mean(fids), np.std(fids)))"
   ]
  },
  {
   "cell_type": "code",
   "execution_count": 98,
   "id": "c59bd925",
   "metadata": {},
   "outputs": [
    {
     "name": "stdout",
     "output_type": "stream",
     "text": [
      "Job ID d0b22b36-d04d-48a7-862e-8c8bc94f5405\n",
      "Job ID a277c42c-b9e9-4373-9ca4-7cb99462bfb0\n",
      "Job ID 15d63bbb-9b20-4af7-b0ed-a22c6fcbb9df\n",
      "Job ID b10176bf-8642-4442-9d9c-9eb4b346361d\n",
      "Job ID 814172f3-7933-4b23-ae94-4484bd742bb3\n",
      "Job ID 5b1a2a91-2910-4cd2-bea3-70a136fd50c2\n",
      "Job ID a20c0537-cab7-4ce6-9707-3e2a38777843\n",
      "Job ID c740a3db-5dee-4979-b3f7-93b16669be7d\n"
     ]
    }
   ],
   "source": [
    "from qiskit import Aer\n",
    "shots = 16000\n",
    "reps = 8\n",
    "backend = Aer.get_backend('aer_simulator')\n",
    "\n",
    "jobs = []\n",
    "for _ in range(reps):\n",
    "    job = execute(st_qcs, backend, shots = shots)\n",
    "    print('Job ID', job.job_id())\n",
    "    jobs.append(job)"
   ]
  },
  {
   "cell_type": "code",
   "execution_count": 99,
   "id": "09572339",
   "metadata": {},
   "outputs": [
    {
     "name": "stdout",
     "output_type": "stream",
     "text": [
      "\r",
      "Job Status: job has successfully run\n",
      "\r",
      "Job Status: job has successfully run\n",
      "\r",
      "Job Status: job has successfully run\n",
      "\r",
      "Job Status: job has successfully run\n",
      "\r",
      "Job Status: job has successfully run\n",
      "\r",
      "Job Status: job has successfully run\n",
      "\r",
      "Job Status: job has successfully run\n",
      "\r",
      "Job Status: job has successfully run\n"
     ]
    }
   ],
   "source": [
    "for job in jobs:\n",
    "    job_monitor(job)\n",
    "    try:\n",
    "        if job.error_message() is not None:\n",
    "            print(job.error_message())\n",
    "            \n",
    "    except:\n",
    "        pass"
   ]
  },
  {
   "cell_type": "code",
   "execution_count": 100,
   "id": "54d5abf3",
   "metadata": {},
   "outputs": [
    {
     "name": "stdout",
     "output_type": "stream",
     "text": [
      "State tomography fidelity = 0.4633 ± 0.0015\n"
     ]
    }
   ],
   "source": [
    "#Compute the state tomography based on the st_qcs quantum circuits and the results\n",
    "def state_tomo(result, st_qcs):\n",
    "    #The expected final state necessary to determine the state tomography fidelity\n",
    "    target_state = (One^One^Zero).to_matrix()\n",
    "    #Fit state tomography results\n",
    "    tomo_fitter = StateTomographyFitter(result, st_qcs)\n",
    "    rho_fit = tomo_fitter.fit(method = 'lstsq')\n",
    "    #Compute fidelity\n",
    "    fid = state_fidelity(rho_fit, target_state)\n",
    "    return fid\n",
    "\n",
    "#Compute tomography fidelities for each repitition\n",
    "fids = []\n",
    "for job in jobs:\n",
    "    fid = state_tomo(job.result(), st_qcs)\n",
    "    fids.append(fid)\n",
    "    \n",
    "print('State tomography fidelity = {:.4f} \\u00B1 {:.4f}'.format(np.mean(fids), np.std(fids)))"
   ]
  },
  {
   "cell_type": "markdown",
   "id": "69e95371",
   "metadata": {},
   "source": [
    "**2.1) Improved Circuit with 3-CNOT gates.**"
   ]
  },
  {
   "cell_type": "markdown",
   "id": "89679c2d",
   "metadata": {},
   "source": [
    "In this section I have changed the circuit by reducing the number of gates and espicially reducing the number of CNOT gates.This approcah is taken from[1]. It uses the gates with cross-resnonance interactions consisting a native universal set,<br>\n",
    "$$\n",
    "{S_{1}} = \\{R_{\\alpha}\\theta, CNOT\\}\n",
    "$$\n",
    "containing single qubit rotations and two qubit CNOT gates."
   ]
  },
  {
   "cell_type": "markdown",
   "id": "b9183259",
   "metadata": {},
   "source": [
    "Here I am exploring the fidelity results with differnet number of Trotter steps starting with $n = 10$."
   ]
  },
  {
   "cell_type": "code",
   "execution_count": 5,
   "id": "aa27a94d",
   "metadata": {},
   "outputs": [],
   "source": [
    "t = Parameter('t')\n",
    "n = 10"
   ]
  },
  {
   "cell_type": "code",
   "execution_count": 11,
   "id": "e2654a1e",
   "metadata": {},
   "outputs": [
    {
     "data": {
      "image/png": "[encoded data removed]",
      "text/plain": [
       "<Figure size 521.123x144.48 with 1 Axes>"
      ]
     },
     "execution_count": 11,
     "metadata": {},
     "output_type": "execute_result"
    }
   ],
   "source": [
    "H_qr = QuantumRegister(2)\n",
    "H_qc = QuantumCircuit(H_qr)\n",
    "\n",
    "H_qc.cnot(0, 1)\n",
    "H_qc.rx(((2 * t)/n - np.pi/2), 0)\n",
    "H_qc.rz((2 * t)/n, 1)\n",
    "H_qc.h(0)\n",
    "H_qc.cnot(0, 1)\n",
    "H_qc.h(0)\n",
    "H_qc.rz(-(2 * t)/n, 1)\n",
    "H_qc.cnot(0, 1)\n",
    "H_qc.rx(np.pi/2, 0)\n",
    "H_qc.rx(-(np.pi/2), 1)\n",
    "\n",
    "#Covnert custom quantum circuit into a gate\n",
    "H = H_qc.to_instruction()\n",
    "H_qc.draw('mpl')"
   ]
  },
  {
   "cell_type": "code",
   "execution_count": 13,
   "id": "8c24d14c",
   "metadata": {},
   "outputs": [],
   "source": [
    "num_qubits = 3\n",
    "\n",
    "Trot_qr = QuantumRegister(num_qubits)\n",
    "Trot_qc = QuantumCircuit(Trot_qr)\n",
    "\n",
    "for i in range(0, num_qubits - 1):\n",
    "    Trot_qc.append(H, [Trot_qr[i], Trot_qr[i + 1]])\n",
    "    \n",
    "#Convert custom Quantum circuit into a gate\n",
    "Trot_gate = Trot_qc.to_instruction()"
   ]
  },
  {
   "cell_type": "code",
   "execution_count": 15,
   "id": "a2bb74d8",
   "metadata": {},
   "outputs": [
    {
     "data": {
      "text/html": [
       "<pre style=\"word-wrap: normal;white-space: pre;background: #fff0;line-height: 1.1;font-family: &quot;Courier New&quot;,Courier,monospace\">                                                         »\n",
       "q9_0: ───────────────────────────────────────────────────»\n",
       "           ┌─────────────────────┐┌─────────────────────┐»\n",
       "q9_1: ─────┤0                    ├┤0                    ├»\n",
       "           │                     ││                     │»\n",
       "q9_2: ─────┤                     ├┤                     ├»\n",
       "      ┌───┐│                     ││                     │»\n",
       "q9_3: ┤ X ├┤1 circuit-1028(π/10) ├┤1 circuit-1028(π/10) ├»\n",
       "      └───┘│                     ││                     │»\n",
       "q9_4: ─────┤                     ├┤                     ├»\n",
       "      ┌───┐│                     ││                     │»\n",
       "q9_5: ┤ X ├┤2                    ├┤2                    ├»\n",
       "      └───┘└─────────────────────┘└─────────────────────┘»\n",
       "q9_6: ───────────────────────────────────────────────────»\n",
       "                                                         »\n",
       "c1: 3/═══════════════════════════════════════════════════»\n",
       "                                                         »\n",
       "«                                                                           »\n",
       "«q9_0: ─────────────────────────────────────────────────────────────────────»\n",
       "«      ┌─────────────────────┐┌─────────────────────┐┌─────────────────────┐»\n",
       "«q9_1: ┤0                    ├┤0                    ├┤0                    ├»\n",
       "«      │                     ││                     ││                     │»\n",
       "«q9_2: ┤                     ├┤                     ├┤                     ├»\n",
       "«      │                     ││                     ││                     │»\n",
       "«q9_3: ┤1 circuit-1028(π/10) ├┤1 circuit-1028(π/10) ├┤1 circuit-1028(π/10) ├»\n",
       "«      │                     ││                     ││                     │»\n",
       "«q9_4: ┤                     ├┤                     ├┤                     ├»\n",
       "«      │                     ││                     ││                     │»\n",
       "«q9_5: ┤2                    ├┤2                    ├┤2                    ├»\n",
       "«      └─────────────────────┘└─────────────────────┘└─────────────────────┘»\n",
       "«q9_6: ─────────────────────────────────────────────────────────────────────»\n",
       "«                                                                           »\n",
       "«c1: 3/═════════════════════════════════════════════════════════════════════»\n",
       "«                                                                           »\n",
       "«                                                                           »\n",
       "«q9_0: ─────────────────────────────────────────────────────────────────────»\n",
       "«      ┌─────────────────────┐┌─────────────────────┐┌─────────────────────┐»\n",
       "«q9_1: ┤0                    ├┤0                    ├┤0                    ├»\n",
       "«      │                     ││                     ││                     │»\n",
       "«q9_2: ┤                     ├┤                     ├┤                     ├»\n",
       "«      │                     ││                     ││                     │»\n",
       "«q9_3: ┤1 circuit-1028(π/10) ├┤1 circuit-1028(π/10) ├┤1 circuit-1028(π/10) ├»\n",
       "«      │                     ││                     ││                     │»\n",
       "«q9_4: ┤                     ├┤                     ├┤                     ├»\n",
       "«      │                     ││                     ││                     │»\n",
       "«q9_5: ┤2                    ├┤2                    ├┤2                    ├»\n",
       "«      └─────────────────────┘└─────────────────────┘└─────────────────────┘»\n",
       "«q9_6: ─────────────────────────────────────────────────────────────────────»\n",
       "«                                                                           »\n",
       "«c1: 3/═════════════════════════════════════════════════════════════════════»\n",
       "«                                                                           »\n",
       "«                                                     ░          \n",
       "«q9_0: ───────────────────────────────────────────────░──────────\n",
       "«      ┌─────────────────────┐┌─────────────────────┐ ░ ┌─┐      \n",
       "«q9_1: ┤0                    ├┤0                    ├─░─┤M├──────\n",
       "«      │                     ││                     │ ░ └╥┘      \n",
       "«q9_2: ┤                     ├┤                     ├─░──╫───────\n",
       "«      │                     ││                     │ ░  ║ ┌─┐   \n",
       "«q9_3: ┤1 circuit-1028(π/10) ├┤1 circuit-1028(π/10) ├─░──╫─┤M├───\n",
       "«      │                     ││                     │ ░  ║ └╥┘   \n",
       "«q9_4: ┤                     ├┤                     ├─░──╫──╫────\n",
       "«      │                     ││                     │ ░  ║  ║ ┌─┐\n",
       "«q9_5: ┤2                    ├┤2                    ├─░──╫──╫─┤M├\n",
       "«      └─────────────────────┘└─────────────────────┘ ░  ║  ║ └╥┘\n",
       "«q9_6: ───────────────────────────────────────────────░──╫──╫──╫─\n",
       "«                                                     ░  ║  ║  ║ \n",
       "«c1: 3/══════════════════════════════════════════════════╩══╩══╩═\n",
       "«                                                        0  1  2 </pre>"
      ],
      "text/plain": [
       "                                                         »\n",
       "q9_0: ───────────────────────────────────────────────────»\n",
       "           ┌─────────────────────┐┌─────────────────────┐»\n",
       "q9_1: ─────┤0                    ├┤0                    ├»\n",
       "           │                     ││                     │»\n",
       "q9_2: ─────┤                     ├┤                     ├»\n",
       "      ┌───┐│                     ││                     │»\n",
       "q9_3: ┤ X ├┤1 circuit-1028(π/10) ├┤1 circuit-1028(π/10) ├»\n",
       "      └───┘│                     ││                     │»\n",
       "q9_4: ─────┤                     ├┤                     ├»\n",
       "      ┌───┐│                     ││                     │»\n",
       "q9_5: ┤ X ├┤2                    ├┤2                    ├»\n",
       "      └───┘└─────────────────────┘└─────────────────────┘»\n",
       "q9_6: ───────────────────────────────────────────────────»\n",
       "                                                         »\n",
       "c1: 3/═══════════════════════════════════════════════════»\n",
       "                                                         »\n",
       "«                                                                           »\n",
       "«q9_0: ─────────────────────────────────────────────────────────────────────»\n",
       "«      ┌─────────────────────┐┌─────────────────────┐┌─────────────────────┐»\n",
       "«q9_1: ┤0                    ├┤0                    ├┤0                    ├»\n",
       "«      │                     ││                     ││                     │»\n",
       "«q9_2: ┤                     ├┤                     ├┤                     ├»\n",
       "«      │                     ││                     ││                     │»\n",
       "«q9_3: ┤1 circuit-1028(π/10) ├┤1 circuit-1028(π/10) ├┤1 circuit-1028(π/10) ├»\n",
       "«      │                     ││                     ││                     │»\n",
       "«q9_4: ┤                     ├┤                     ├┤                     ├»\n",
       "«      │                     ││                     ││                     │»\n",
       "«q9_5: ┤2                    ├┤2                    ├┤2                    ├»\n",
       "«      └─────────────────────┘└─────────────────────┘└─────────────────────┘»\n",
       "«q9_6: ─────────────────────────────────────────────────────────────────────»\n",
       "«                                                                           »\n",
       "«c1: 3/═════════════════════════════════════════════════════════════════════»\n",
       "«                                                                           »\n",
       "«                                                                           »\n",
       "«q9_0: ─────────────────────────────────────────────────────────────────────»\n",
       "«      ┌─────────────────────┐┌─────────────────────┐┌─────────────────────┐»\n",
       "«q9_1: ┤0                    ├┤0                    ├┤0                    ├»\n",
       "«      │                     ││                     ││                     │»\n",
       "«q9_2: ┤                     ├┤                     ├┤                     ├»\n",
       "«      │                     ││                     ││                     │»\n",
       "«q9_3: ┤1 circuit-1028(π/10) ├┤1 circuit-1028(π/10) ├┤1 circuit-1028(π/10) ├»\n",
       "«      │                     ││                     ││                     │»\n",
       "«q9_4: ┤                     ├┤                     ├┤                     ├»\n",
       "«      │                     ││                     ││                     │»\n",
       "«q9_5: ┤2                    ├┤2                    ├┤2                    ├»\n",
       "«      └─────────────────────┘└─────────────────────┘└─────────────────────┘»\n",
       "«q9_6: ─────────────────────────────────────────────────────────────────────»\n",
       "«                                                                           »\n",
       "«c1: 3/═════════════════════════════════════════════════════════════════════»\n",
       "«                                                                           »\n",
       "«                                                     ░          \n",
       "«q9_0: ───────────────────────────────────────────────░──────────\n",
       "«      ┌─────────────────────┐┌─────────────────────┐ ░ ┌─┐      \n",
       "«q9_1: ┤0                    ├┤0                    ├─░─┤M├──────\n",
       "«      │                     ││                     │ ░ └╥┘      \n",
       "«q9_2: ┤                     ├┤                     ├─░──╫───────\n",
       "«      │                     ││                     │ ░  ║ ┌─┐   \n",
       "«q9_3: ┤1 circuit-1028(π/10) ├┤1 circuit-1028(π/10) ├─░──╫─┤M├───\n",
       "«      │                     ││                     │ ░  ║ └╥┘   \n",
       "«q9_4: ┤                     ├┤                     ├─░──╫──╫────\n",
       "«      │                     ││                     │ ░  ║  ║ ┌─┐\n",
       "«q9_5: ┤2                    ├┤2                    ├─░──╫──╫─┤M├\n",
       "«      └─────────────────────┘└─────────────────────┘ ░  ║  ║ └╥┘\n",
       "«q9_6: ───────────────────────────────────────────────░──╫──╫──╫─\n",
       "«                                                     ░  ║  ║  ║ \n",
       "«c1: 3/══════════════════════════════════════════════════╩══╩══╩═\n",
       "«                                                        0  1  2 "
      ]
     },
     "execution_count": 15,
     "metadata": {},
     "output_type": "execute_result"
    }
   ],
   "source": [
    "#The final time of the state evolution\n",
    "target_time = np.pi\n",
    "\n",
    "#Number of Trotter steps\n",
    "trotter_steps = 10\n",
    "\n",
    "#Initialize quantum circuit for 3 qubits\n",
    "qr = QuantumRegister(7)\n",
    "qc = QuantumCircuit(qr)\n",
    "\n",
    "#Prepare initial step\n",
    "qc.x([3, 5])\n",
    "\n",
    "#Simulate time evolution under H_Heis3 Hamiltonian\n",
    "for _ in range(trotter_steps):\n",
    "    qc.append(Trot_gate, [qr[1], qr[3], qr[5]])\n",
    "    \n",
    "#Evaluate simulation at target_time(t=pi)\n",
    "qc = qc.bind_parameters({t: target_time/ trotter_steps})\n",
    "\n",
    "#Generate state tomography circuitsto evaluate the fidelity of the simulation\n",
    "st_qcs = state_tomography_circuits(qc, [qr[1], qr[3], qr[5]])\n",
    "\n",
    "#Display circuit for confirmation\n",
    "st_qcs[-1].decompose().draw() #view decomposition of trotter gates\n",
    "st_qcs[-1].draw()"
   ]
  },
  {
   "cell_type": "code",
   "execution_count": 16,
   "id": "2816c5c7",
   "metadata": {},
   "outputs": [
    {
     "name": "stdout",
     "output_type": "stream",
     "text": [
      "Job ID e6ee0fca-6cd4-4836-8c05-91478fbeb91c\n",
      "Job ID ce96a54f-c42d-4213-b2a2-2ce6f6f9dca4\n",
      "Job ID 4b708f12-7b26-4c13-a51b-b9d14c43464b\n",
      "Job ID c4e85d03-6989-40f0-ad44-25a29cb9a1c2\n",
      "Job ID 569a10ef-3660-410b-8d3b-660a14c46fb2\n",
      "Job ID 9c8e1f75-c900-4ab8-9dba-3b68e7727cb4\n",
      "Job ID acde9cef-c78f-4eeb-b1a5-55818621b3e7\n",
      "Job ID 587c9d4d-3e3e-4476-ae6d-0abaf82acf7e\n"
     ]
    }
   ],
   "source": [
    "shots = 8192\n",
    "reps = 8\n",
    "backend = sim_noisy_jakarta\n",
    "\n",
    "jobs = []\n",
    "for _ in range(reps):\n",
    "    job = execute(st_qcs, backend, shots = shots)\n",
    "    print('Job ID', job.job_id())\n",
    "    jobs.append(job)"
   ]
  },
  {
   "cell_type": "code",
   "execution_count": 17,
   "id": "37081f2a",
   "metadata": {},
   "outputs": [
    {
     "name": "stdout",
     "output_type": "stream",
     "text": [
      "\r",
      "Job Status: job has successfully run\n",
      "\r",
      "Job Status: job has successfully run\n",
      "\r",
      "Job Status: job has successfully run\n",
      "\r",
      "Job Status: job has successfully run\n",
      "\r",
      "Job Status: job has successfully run\n",
      "\r",
      "Job Status: job has successfully run\n",
      "\r",
      "Job Status: job has successfully run\n",
      "\r",
      "Job Status: job has successfully run\n"
     ]
    }
   ],
   "source": [
    "for job in jobs:\n",
    "    job_monitor(job)\n",
    "    try:\n",
    "        if job.error_message() is not None:\n",
    "            print(job.error_message())\n",
    "            \n",
    "    except:\n",
    "        pass"
   ]
  },
  {
   "cell_type": "markdown",
   "id": "ea601566",
   "metadata": {},
   "source": [
    "**2.1a) State Tomography Fidelity on noisy Simulator.**"
   ]
  },
  {
   "cell_type": "code",
   "execution_count": 18,
   "id": "a0e56132",
   "metadata": {},
   "outputs": [
    {
     "name": "stdout",
     "output_type": "stream",
     "text": [
      "State tomography fidelity = 0.4402 ± 0.0017\n"
     ]
    }
   ],
   "source": [
    "#Compute the state tomography based on the st_qcs quantum circuits and the results\n",
    "def state_tomo(result, st_qcs):\n",
    "    #The expected final state necessary to determine the state tomography fidelity\n",
    "    target_state = (One^One^Zero).to_matrix()\n",
    "    #Fit state tomography results\n",
    "    tomo_fitter = StateTomographyFitter(result, st_qcs)\n",
    "    rho_fit = tomo_fitter.fit(method = 'lstsq')\n",
    "    #Compute fidelity\n",
    "    fid = state_fidelity(rho_fit, target_state)\n",
    "    return fid\n",
    "\n",
    "#Compute tomography fidelities for each repitition\n",
    "fids = []\n",
    "for job in jobs:\n",
    "    fid = state_tomo(job.result(), st_qcs)\n",
    "    fids.append(fid)\n",
    "    \n",
    "print('State tomography fidelity = {:.4f} \\u00B1 {:.4f}'.format(np.mean(fids), np.std(fids)))"
   ]
  },
  {
   "cell_type": "markdown",
   "id": "d40e3357",
   "metadata": {},
   "source": [
    "Increasing the number of Trotter Steps to $n = 12$."
   ]
  },
  {
   "cell_type": "code",
   "execution_count": 5,
   "id": "3b2cfd51",
   "metadata": {},
   "outputs": [],
   "source": [
    "t = Parameter('t')\n",
    "n = 12"
   ]
  },
  {
   "cell_type": "code",
   "execution_count": 6,
   "id": "c7d25612",
   "metadata": {},
   "outputs": [
    {
     "data": {
      "image/png": "[encoded data removed]",
      "text/plain": [
       "<Figure size 641.233x144.48 with 1 Axes>"
      ]
     },
     "execution_count": 6,
     "metadata": {},
     "output_type": "execute_result"
    }
   ],
   "source": [
    "H_qr = QuantumRegister(2)\n",
    "H_qc = QuantumCircuit(H_qr)\n",
    "\n",
    "H_qc.cnot(0, 1)\n",
    "H_qc.rx(((2 * t)/n - np.pi/2), 0)\n",
    "H_qc.rz((2 * t)/n, 1)\n",
    "H_qc.h(0)\n",
    "H_qc.cnot(0, 1)\n",
    "H_qc.h(0)\n",
    "H_qc.rz(-(2 * t)/n, 1)\n",
    "H_qc.cnot(0, 1)\n",
    "H_qc.rx(np.pi/2, 0)\n",
    "H_qc.rx(-(np.pi/2), 1)\n",
    "\n",
    "#Covnert custom quantum circuit into a gate\n",
    "H = H_qc.to_instruction()\n",
    "H_qc.draw('mpl')"
   ]
  },
  {
   "cell_type": "code",
   "execution_count": 7,
   "id": "ad98b53b",
   "metadata": {},
   "outputs": [],
   "source": [
    "num_qubits = 3\n",
    "\n",
    "Trot_qr = QuantumRegister(num_qubits)\n",
    "Trot_qc = QuantumCircuit(Trot_qr)\n",
    "\n",
    "for i in range(0, num_qubits - 1):\n",
    "    Trot_qc.append(H, [Trot_qr[i], Trot_qr[i + 1]])\n",
    "    \n",
    "#Convert custom Quantum circuit into a gate\n",
    "Trot_gate = Trot_qc.to_instruction()"
   ]
  },
  {
   "cell_type": "code",
   "execution_count": 8,
   "id": "489721fd",
   "metadata": {},
   "outputs": [
    {
     "data": {
      "text/html": [
       "<pre style=\"word-wrap: normal;white-space: pre;background: #fff0;line-height: 1.1;font-family: &quot;Courier New&quot;,Courier,monospace\">                                                         »\n",
       "q2_0: ───────────────────────────────────────────────────»\n",
       "           ┌─────────────────────┐┌─────────────────────┐»\n",
       "q2_1: ─────┤0                    ├┤0                    ├»\n",
       "           │                     ││                     │»\n",
       "q2_2: ─────┤                     ├┤                     ├»\n",
       "      ┌───┐│                     ││                     │»\n",
       "q2_3: ┤ X ├┤1 circuit-1055(π/12) ├┤1 circuit-1055(π/12) ├»\n",
       "      └───┘│                     ││                     │»\n",
       "q2_4: ─────┤                     ├┤                     ├»\n",
       "      ┌───┐│                     ││                     │»\n",
       "q2_5: ┤ X ├┤2                    ├┤2                    ├»\n",
       "      └───┘└─────────────────────┘└─────────────────────┘»\n",
       "q2_6: ───────────────────────────────────────────────────»\n",
       "                                                         »\n",
       "c0: 3/═══════════════════════════════════════════════════»\n",
       "                                                         »\n",
       "«                                                                           »\n",
       "«q2_0: ─────────────────────────────────────────────────────────────────────»\n",
       "«      ┌─────────────────────┐┌─────────────────────┐┌─────────────────────┐»\n",
       "«q2_1: ┤0                    ├┤0                    ├┤0                    ├»\n",
       "«      │                     ││                     ││                     │»\n",
       "«q2_2: ┤                     ├┤                     ├┤                     ├»\n",
       "«      │                     ││                     ││                     │»\n",
       "«q2_3: ┤1 circuit-1055(π/12) ├┤1 circuit-1055(π/12) ├┤1 circuit-1055(π/12) ├»\n",
       "«      │                     ││                     ││                     │»\n",
       "«q2_4: ┤                     ├┤                     ├┤                     ├»\n",
       "«      │                     ││                     ││                     │»\n",
       "«q2_5: ┤2                    ├┤2                    ├┤2                    ├»\n",
       "«      └─────────────────────┘└─────────────────────┘└─────────────────────┘»\n",
       "«q2_6: ─────────────────────────────────────────────────────────────────────»\n",
       "«                                                                           »\n",
       "«c0: 3/═════════════════════════════════════════════════════════════════════»\n",
       "«                                                                           »\n",
       "«                                                                           »\n",
       "«q2_0: ─────────────────────────────────────────────────────────────────────»\n",
       "«      ┌─────────────────────┐┌─────────────────────┐┌─────────────────────┐»\n",
       "«q2_1: ┤0                    ├┤0                    ├┤0                    ├»\n",
       "«      │                     ││                     ││                     │»\n",
       "«q2_2: ┤                     ├┤                     ├┤                     ├»\n",
       "«      │                     ││                     ││                     │»\n",
       "«q2_3: ┤1 circuit-1055(π/12) ├┤1 circuit-1055(π/12) ├┤1 circuit-1055(π/12) ├»\n",
       "«      │                     ││                     ││                     │»\n",
       "«q2_4: ┤                     ├┤                     ├┤                     ├»\n",
       "«      │                     ││                     ││                     │»\n",
       "«q2_5: ┤2                    ├┤2                    ├┤2                    ├»\n",
       "«      └─────────────────────┘└─────────────────────┘└─────────────────────┘»\n",
       "«q2_6: ─────────────────────────────────────────────────────────────────────»\n",
       "«                                                                           »\n",
       "«c0: 3/═════════════════════════════════════════════════════════════════════»\n",
       "«                                                                           »\n",
       "«                                                                           »\n",
       "«q2_0: ─────────────────────────────────────────────────────────────────────»\n",
       "«      ┌─────────────────────┐┌─────────────────────┐┌─────────────────────┐»\n",
       "«q2_1: ┤0                    ├┤0                    ├┤0                    ├»\n",
       "«      │                     ││                     ││                     │»\n",
       "«q2_2: ┤                     ├┤                     ├┤                     ├»\n",
       "«      │                     ││                     ││                     │»\n",
       "«q2_3: ┤1 circuit-1055(π/12) ├┤1 circuit-1055(π/12) ├┤1 circuit-1055(π/12) ├»\n",
       "«      │                     ││                     ││                     │»\n",
       "«q2_4: ┤                     ├┤                     ├┤                     ├»\n",
       "«      │                     ││                     ││                     │»\n",
       "«q2_5: ┤2                    ├┤2                    ├┤2                    ├»\n",
       "«      └─────────────────────┘└─────────────────────┘└─────────────────────┘»\n",
       "«q2_6: ─────────────────────────────────────────────────────────────────────»\n",
       "«                                                                           »\n",
       "«c0: 3/═════════════════════════════════════════════════════════════════════»\n",
       "«                                                                           »\n",
       "«                              ░          \n",
       "«q2_0: ────────────────────────░──────────\n",
       "«      ┌─────────────────────┐ ░ ┌─┐      \n",
       "«q2_1: ┤0                    ├─░─┤M├──────\n",
       "«      │                     │ ░ └╥┘      \n",
       "«q2_2: ┤                     ├─░──╫───────\n",
       "«      │                     │ ░  ║ ┌─┐   \n",
       "«q2_3: ┤1 circuit-1055(π/12) ├─░──╫─┤M├───\n",
       "«      │                     │ ░  ║ └╥┘   \n",
       "«q2_4: ┤                     ├─░──╫──╫────\n",
       "«      │                     │ ░  ║  ║ ┌─┐\n",
       "«q2_5: ┤2                    ├─░──╫──╫─┤M├\n",
       "«      └─────────────────────┘ ░  ║  ║ └╥┘\n",
       "«q2_6: ────────────────────────░──╫──╫──╫─\n",
       "«                              ░  ║  ║  ║ \n",
       "«c0: 3/═══════════════════════════╩══╩══╩═\n",
       "«                                 0  1  2 </pre>"
      ],
      "text/plain": [
       "                                                         »\n",
       "q2_0: ───────────────────────────────────────────────────»\n",
       "           ┌─────────────────────┐┌─────────────────────┐»\n",
       "q2_1: ─────┤0                    ├┤0                    ├»\n",
       "           │                     ││                     │»\n",
       "q2_2: ─────┤                     ├┤                     ├»\n",
       "      ┌───┐│                     ││                     │»\n",
       "q2_3: ┤ X ├┤1 circuit-1055(π/12) ├┤1 circuit-1055(π/12) ├»\n",
       "      └───┘│                     ││                     │»\n",
       "q2_4: ─────┤                     ├┤                     ├»\n",
       "      ┌───┐│                     ││                     │»\n",
       "q2_5: ┤ X ├┤2                    ├┤2                    ├»\n",
       "      └───┘└─────────────────────┘└─────────────────────┘»\n",
       "q2_6: ───────────────────────────────────────────────────»\n",
       "                                                         »\n",
       "c0: 3/═══════════════════════════════════════════════════»\n",
       "                                                         »\n",
       "«                                                                           »\n",
       "«q2_0: ─────────────────────────────────────────────────────────────────────»\n",
       "«      ┌─────────────────────┐┌─────────────────────┐┌─────────────────────┐»\n",
       "«q2_1: ┤0                    ├┤0                    ├┤0                    ├»\n",
       "«      │                     ││                     ││                     │»\n",
       "«q2_2: ┤                     ├┤                     ├┤                     ├»\n",
       "«      │                     ││                     ││                     │»\n",
       "«q2_3: ┤1 circuit-1055(π/12) ├┤1 circuit-1055(π/12) ├┤1 circuit-1055(π/12) ├»\n",
       "«      │                     ││                     ││                     │»\n",
       "«q2_4: ┤                     ├┤                     ├┤                     ├»\n",
       "«      │                     ││                     ││                     │»\n",
       "«q2_5: ┤2                    ├┤2                    ├┤2                    ├»\n",
       "«      └─────────────────────┘└─────────────────────┘└─────────────────────┘»\n",
       "«q2_6: ─────────────────────────────────────────────────────────────────────»\n",
       "«                                                                           »\n",
       "«c0: 3/═════════════════════════════════════════════════════════════════════»\n",
       "«                                                                           »\n",
       "«                                                                           »\n",
       "«q2_0: ─────────────────────────────────────────────────────────────────────»\n",
       "«      ┌─────────────────────┐┌─────────────────────┐┌─────────────────────┐»\n",
       "«q2_1: ┤0                    ├┤0                    ├┤0                    ├»\n",
       "«      │                     ││                     ││                     │»\n",
       "«q2_2: ┤                     ├┤                     ├┤                     ├»\n",
       "«      │                     ││                     ││                     │»\n",
       "«q2_3: ┤1 circuit-1055(π/12) ├┤1 circuit-1055(π/12) ├┤1 circuit-1055(π/12) ├»\n",
       "«      │                     ││                     ││                     │»\n",
       "«q2_4: ┤                     ├┤                     ├┤                     ├»\n",
       "«      │                     ││                     ││                     │»\n",
       "«q2_5: ┤2                    ├┤2                    ├┤2                    ├»\n",
       "«      └─────────────────────┘└─────────────────────┘└─────────────────────┘»\n",
       "«q2_6: ─────────────────────────────────────────────────────────────────────»\n",
       "«                                                                           »\n",
       "«c0: 3/═════════════════════════════════════════════════════════════════════»\n",
       "«                                                                           »\n",
       "«                                                                           »\n",
       "«q2_0: ─────────────────────────────────────────────────────────────────────»\n",
       "«      ┌─────────────────────┐┌─────────────────────┐┌─────────────────────┐»\n",
       "«q2_1: ┤0                    ├┤0                    ├┤0                    ├»\n",
       "«      │                     ││                     ││                     │»\n",
       "«q2_2: ┤                     ├┤                     ├┤                     ├»\n",
       "«      │                     ││                     ││                     │»\n",
       "«q2_3: ┤1 circuit-1055(π/12) ├┤1 circuit-1055(π/12) ├┤1 circuit-1055(π/12) ├»\n",
       "«      │                     ││                     ││                     │»\n",
       "«q2_4: ┤                     ├┤                     ├┤                     ├»\n",
       "«      │                     ││                     ││                     │»\n",
       "«q2_5: ┤2                    ├┤2                    ├┤2                    ├»\n",
       "«      └─────────────────────┘└─────────────────────┘└─────────────────────┘»\n",
       "«q2_6: ─────────────────────────────────────────────────────────────────────»\n",
       "«                                                                           »\n",
       "«c0: 3/═════════════════════════════════════════════════════════════════════»\n",
       "«                                                                           »\n",
       "«                              ░          \n",
       "«q2_0: ────────────────────────░──────────\n",
       "«      ┌─────────────────────┐ ░ ┌─┐      \n",
       "«q2_1: ┤0                    ├─░─┤M├──────\n",
       "«      │                     │ ░ └╥┘      \n",
       "«q2_2: ┤                     ├─░──╫───────\n",
       "«      │                     │ ░  ║ ┌─┐   \n",
       "«q2_3: ┤1 circuit-1055(π/12) ├─░──╫─┤M├───\n",
       "«      │                     │ ░  ║ └╥┘   \n",
       "«q2_4: ┤                     ├─░──╫──╫────\n",
       "«      │                     │ ░  ║  ║ ┌─┐\n",
       "«q2_5: ┤2                    ├─░──╫──╫─┤M├\n",
       "«      └─────────────────────┘ ░  ║  ║ └╥┘\n",
       "«q2_6: ────────────────────────░──╫──╫──╫─\n",
       "«                              ░  ║  ║  ║ \n",
       "«c0: 3/═══════════════════════════╩══╩══╩═\n",
       "«                                 0  1  2 "
      ]
     },
     "execution_count": 8,
     "metadata": {},
     "output_type": "execute_result"
    }
   ],
   "source": [
    "#The final time of the state evolution\n",
    "target_time = np.pi\n",
    "\n",
    "#Number of Trotter steps\n",
    "trotter_steps = 12\n",
    "\n",
    "#Initialize quantum circuit for 3 qubits\n",
    "qr = QuantumRegister(7)\n",
    "qc = QuantumCircuit(qr)\n",
    "\n",
    "#Prepare initial step\n",
    "qc.x([3, 5])\n",
    "\n",
    "#Simulate time evolution under H_Heis3 Hamiltonian\n",
    "for _ in range(trotter_steps):\n",
    "    qc.append(Trot_gate, [qr[1], qr[3], qr[5]])\n",
    "    \n",
    "#Evaluate simulation at target_time(t=pi)\n",
    "qc = qc.bind_parameters({t: target_time/ trotter_steps})\n",
    "\n",
    "#Generate state tomography circuitsto evaluate the fidelity of the simulation\n",
    "st_qcs = state_tomography_circuits(qc, [qr[1], qr[3], qr[5]])\n",
    "\n",
    "#Display circuit for confirmation\n",
    "st_qcs[-1].decompose().draw() #view decomposition of trotter gates\n",
    "st_qcs[-1].draw()"
   ]
  },
  {
   "cell_type": "code",
   "execution_count": 23,
   "id": "2a21cc10",
   "metadata": {},
   "outputs": [
    {
     "name": "stdout",
     "output_type": "stream",
     "text": [
      "Job ID 89699251-3b0a-4c06-b31a-430ddd74083a\n",
      "Job ID 10fe41a6-cf76-43c4-8619-aec87062d2d1\n",
      "Job ID 890d55f6-7dd6-4d98-aca8-f899beff3095\n",
      "Job ID 4c6ef054-173d-4e0a-8324-e1010a01ecde\n",
      "Job ID 9d7be6b4-3eeb-4462-8add-d47664f9f97f\n",
      "Job ID 6c4e0af3-6452-461c-9c53-81e55c1fd7e4\n",
      "Job ID 0399106f-70f5-4ad7-8ee5-d2314b401fde\n",
      "Job ID e4ae6a1d-5344-42e9-82fe-c812567be48d\n"
     ]
    }
   ],
   "source": [
    "shots = 8192\n",
    "reps = 8\n",
    "backend = sim_noisy_jakarta\n",
    "\n",
    "jobs = []\n",
    "for _ in range(reps):\n",
    "    job = execute(st_qcs, backend, shots = shots)\n",
    "    print('Job ID', job.job_id())\n",
    "    jobs.append(job)"
   ]
  },
  {
   "cell_type": "code",
   "execution_count": 24,
   "id": "65ec6cb4",
   "metadata": {},
   "outputs": [
    {
     "name": "stdout",
     "output_type": "stream",
     "text": [
      "\r",
      "Job Status: job has successfully run\n",
      "\r",
      "Job Status: job has successfully run\n",
      "\r",
      "Job Status: job has successfully run\n",
      "\r",
      "Job Status: job has successfully run\n",
      "\r",
      "Job Status: job has successfully run\n",
      "\r",
      "Job Status: job has successfully run\n",
      "\r",
      "Job Status: job has successfully run\n",
      "\r",
      "Job Status: job has successfully run\n"
     ]
    }
   ],
   "source": [
    "for job in jobs:\n",
    "    job_monitor(job)\n",
    "    try:\n",
    "        if job.error_message() is not None:\n",
    "            print(job.error_message())\n",
    "            \n",
    "    except:\n",
    "        pass"
   ]
  },
  {
   "cell_type": "markdown",
   "id": "eeb43e91",
   "metadata": {},
   "source": [
    "**2.1b) Improved State Tomography Fidelity for the noisy simulator.**"
   ]
  },
  {
   "cell_type": "code",
   "execution_count": 25,
   "id": "bf8d216c",
   "metadata": {},
   "outputs": [
    {
     "name": "stdout",
     "output_type": "stream",
     "text": [
      "State tomography fidelity = 0.4477 ± 0.0025\n"
     ]
    }
   ],
   "source": [
    "#Compute the state tomography based on the st_qcs quantum circuits and the results\n",
    "def state_tomo(result, st_qcs):\n",
    "    #The expected final state necessary to determine the state tomography fidelity\n",
    "    target_state = (One^One^Zero).to_matrix()\n",
    "    #Fit state tomography results\n",
    "    tomo_fitter = StateTomographyFitter(result, st_qcs)\n",
    "    rho_fit = tomo_fitter.fit(method = 'lstsq')\n",
    "    #Compute fidelity\n",
    "    fid = state_fidelity(rho_fit, target_state)\n",
    "    return fid\n",
    "\n",
    "#Compute tomography fidelities for each repitition\n",
    "fids = []\n",
    "for job in jobs:\n",
    "    fid = state_tomo(job.result(), st_qcs)\n",
    "    fids.append(fid)\n",
    "    \n",
    "print('State tomography fidelity = {:.4f} \\u00B1 {:.4f}'.format(np.mean(fids), np.std(fids)))"
   ]
  },
  {
   "cell_type": "code",
   "execution_count": 26,
   "id": "69ba6895",
   "metadata": {},
   "outputs": [
    {
     "name": "stdout",
     "output_type": "stream",
     "text": [
      "Job ID daa02634-6002-4f96-9334-5e118a86d2ae\n",
      "Job ID 8644a44c-9d79-451f-b547-d8a891785ebe\n",
      "Job ID 212f1c1d-dd4f-455b-ab16-7f646abe61d5\n",
      "Job ID 9af82652-46a4-4191-b6ee-3b243e886843\n",
      "Job ID 935dad2f-73bd-4bd8-9a5d-d85ac1dec242\n",
      "Job ID 7b31406d-6672-4ae6-9d0c-056ac4b0427a\n",
      "Job ID b660f86e-f8ba-4a03-b042-abcdd8975dcb\n",
      "Job ID b5d4bfda-3dc9-475c-a1fd-e31c62a29072\n"
     ]
    }
   ],
   "source": [
    "shots = 8192\n",
    "reps = 8\n",
    "backend = QasmSimulator.from_backend(backend)\n",
    "\n",
    "jobs = []\n",
    "for _ in range(reps):\n",
    "    job = execute(st_qcs, backend, shots = shots)\n",
    "    print('Job ID', job.job_id())\n",
    "    jobs.append(job)"
   ]
  },
  {
   "cell_type": "code",
   "execution_count": 27,
   "id": "ed2ddff5",
   "metadata": {},
   "outputs": [
    {
     "name": "stdout",
     "output_type": "stream",
     "text": [
      "\r",
      "Job Status: job has successfully run\n",
      "\r",
      "Job Status: job has successfully run\n",
      "\r",
      "Job Status: job has successfully run\n",
      "\r",
      "Job Status: job has successfully run\n",
      "\r",
      "Job Status: job has successfully run\n",
      "\r",
      "Job Status: job has successfully run\n",
      "\r",
      "Job Status: job has successfully run\n",
      "\r",
      "Job Status: job has successfully run\n"
     ]
    }
   ],
   "source": [
    "for job in jobs:\n",
    "    job_monitor(job)\n",
    "    try:\n",
    "        if job.error_message() is not None:\n",
    "            print(job.error_message())\n",
    "            \n",
    "    except:\n",
    "        pass"
   ]
  },
  {
   "cell_type": "code",
   "execution_count": 28,
   "id": "1a7c5b7c",
   "metadata": {},
   "outputs": [
    {
     "name": "stdout",
     "output_type": "stream",
     "text": [
      "State tomography fidelity = 0.4480 ± 0.0023\n"
     ]
    }
   ],
   "source": [
    "#Compute the state tomography based on the st_qcs quantum circuits and the results\n",
    "def state_tomo(result, st_qcs):\n",
    "    #The expected final state necessary to determine the state tomography fidelity\n",
    "    target_state = (One^One^Zero).to_matrix()\n",
    "    #Fit state tomography results\n",
    "    tomo_fitter = StateTomographyFitter(result, st_qcs)\n",
    "    rho_fit = tomo_fitter.fit(method = 'lstsq')\n",
    "    #Compute fidelity\n",
    "    fid = state_fidelity(rho_fit, target_state)\n",
    "    return fid\n",
    "\n",
    "#Compute tomography fidelities for each repitition\n",
    "fids = []\n",
    "for job in jobs:\n",
    "    fid = state_tomo(job.result(), st_qcs)\n",
    "    fids.append(fid)\n",
    "    \n",
    "print('State tomography fidelity = {:.4f} \\u00B1 {:.4f}'.format(np.mean(fids), np.std(fids)))"
   ]
  },
  {
   "cell_type": "markdown",
   "id": "941fd1a6",
   "metadata": {},
   "source": [
    "**2.1c) State Tomography Fidelity For Ideal Simulators such as Aer and Qasm simulators.**"
   ]
  },
  {
   "cell_type": "code",
   "execution_count": 29,
   "id": "a1ed48a6",
   "metadata": {},
   "outputs": [
    {
     "name": "stdout",
     "output_type": "stream",
     "text": [
      "Job ID 169f7839-4688-4a32-a873-ffbdfcdf7ddd\n",
      "Job ID 03cf551a-1fe3-4b29-9e16-ca64dfcd6676\n",
      "Job ID c2c8e41a-0b16-4dae-8e71-4cfe150ead2c\n",
      "Job ID ef86871e-4fd4-4794-8166-bd2f3c3e2dce\n",
      "Job ID aa557d91-5cc1-4d87-908e-ec2c68e1a7ea\n",
      "Job ID d65befee-7545-4b14-a652-7a3972c9a96b\n",
      "Job ID 7ca57adc-acdb-4171-ac73-1ab1d1c315ac\n",
      "Job ID 3f48cb08-1585-4f95-8a32-21cb398547fc\n"
     ]
    }
   ],
   "source": [
    "from qiskit import Aer, transpile\n",
    "\n",
    "shots = 8192\n",
    "reps = 8\n",
    "backend = Aer.get_backend('aer_simulator')\n",
    "\n",
    "jobs = []\n",
    "for _ in range(reps):\n",
    "    job = execute(st_qcs, backend, shots = shots)\n",
    "    print('Job ID', job.job_id())\n",
    "    jobs.append(job)"
   ]
  },
  {
   "cell_type": "code",
   "execution_count": 30,
   "id": "04107c09",
   "metadata": {},
   "outputs": [
    {
     "name": "stdout",
     "output_type": "stream",
     "text": [
      "\r",
      "Job Status: job has successfully run\n",
      "\r",
      "Job Status: job has successfully run\n",
      "\r",
      "Job Status: job has successfully run\n",
      "\r",
      "Job Status: job has successfully run\n",
      "\r",
      "Job Status: job has successfully run\n",
      "\r",
      "Job Status: job has successfully run\n",
      "\r",
      "Job Status: job has successfully run\n",
      "\r",
      "Job Status: job has successfully run\n"
     ]
    }
   ],
   "source": [
    "for job in jobs:\n",
    "    job_monitor(job)\n",
    "    try:\n",
    "        if job.error_message() is not None:\n",
    "            print(job.error_message())\n",
    "            \n",
    "    except:\n",
    "        pass"
   ]
  },
  {
   "cell_type": "code",
   "execution_count": 31,
   "id": "918f6792",
   "metadata": {},
   "outputs": [
    {
     "name": "stdout",
     "output_type": "stream",
     "text": [
      "State tomography fidelity = 0.7584 ± 0.0012\n"
     ]
    }
   ],
   "source": [
    "#Compute the state tomography based on the st_qcs quantum circuits and the results\n",
    "def state_tomo(result, st_qcs):\n",
    "    #The expected final state necessary to determine the state tomography fidelity\n",
    "    target_state = (One^One^Zero).to_matrix()\n",
    "    #Fit state tomography results\n",
    "    tomo_fitter = StateTomographyFitter(result, st_qcs)\n",
    "    rho_fit = tomo_fitter.fit(method = 'lstsq')\n",
    "    #Compute fidelity\n",
    "    fid = state_fidelity(rho_fit, target_state)\n",
    "    return fid\n",
    "\n",
    "#Compute tomography fidelities for each repitition\n",
    "fids = []\n",
    "for job in jobs:\n",
    "    fid = state_tomo(job.result(), st_qcs)\n",
    "    fids.append(fid)\n",
    "    \n",
    "print('State tomography fidelity = {:.4f} \\u00B1 {:.4f}'.format(np.mean(fids), np.std(fids)))"
   ]
  },
  {
   "cell_type": "code",
   "execution_count": 35,
   "id": "c4eee222",
   "metadata": {},
   "outputs": [
    {
     "name": "stdout",
     "output_type": "stream",
     "text": [
      "Job ID 86f2ca64-3c11-4701-ab7f-f5792e671e7f\n",
      "Job ID 4847716f-0723-422d-9527-b061f242bc90\n",
      "Job ID e4afc534-a8e1-48d2-be11-ed771d3a55b0\n",
      "Job ID 5b3e9d13-8bd5-422e-9ffe-e8fe8c9f05b5\n",
      "Job ID 433e255e-ad85-4ef8-9d50-b1fcaa48f759\n",
      "Job ID 566e35c7-8984-463e-82ff-f3f60f8a648e\n",
      "Job ID a8ee550d-4688-41ee-a234-4cc76ed3d35c\n",
      "Job ID e3c6d65c-43a4-43be-85fc-ffdae112c8f0\n"
     ]
    }
   ],
   "source": [
    "shots = 8192\n",
    "reps = 8\n",
    "backend = QasmSimulator()\n",
    "\n",
    "jobs = []\n",
    "for _ in range(reps):\n",
    "    job = execute(st_qcs, backend, shots = shots)\n",
    "    print('Job ID', job.job_id())\n",
    "    jobs.append(job)"
   ]
  },
  {
   "cell_type": "code",
   "execution_count": 36,
   "id": "654d63d3",
   "metadata": {},
   "outputs": [
    {
     "name": "stdout",
     "output_type": "stream",
     "text": [
      "\r",
      "Job Status: job has successfully run\n",
      "\r",
      "Job Status: job has successfully run\n",
      "\r",
      "Job Status: job has successfully run\n",
      "\r",
      "Job Status: job has successfully run\n",
      "\r",
      "Job Status: job has successfully run\n",
      "\r",
      "Job Status: job has successfully run\n",
      "\r",
      "Job Status: job has successfully run\n",
      "\r",
      "Job Status: job has successfully run\n"
     ]
    }
   ],
   "source": [
    "for job in jobs:\n",
    "    job_monitor(job)\n",
    "    try:\n",
    "        if job.error_message() is not None:\n",
    "            print(job.error_message())\n",
    "            \n",
    "    except:\n",
    "        pass"
   ]
  },
  {
   "cell_type": "code",
   "execution_count": 37,
   "id": "f7152a41",
   "metadata": {},
   "outputs": [
    {
     "name": "stdout",
     "output_type": "stream",
     "text": [
      "State tomography fidelity = 0.7580 ± 0.0009\n"
     ]
    }
   ],
   "source": [
    "#Compute the state tomography based on the st_qcs quantum circuits and the results\n",
    "def state_tomo(result, st_qcs):\n",
    "    #The expected final state necessary to determine the state tomography fidelity\n",
    "    target_state = (One^One^Zero).to_matrix()\n",
    "    #Fit state tomography results\n",
    "    tomo_fitter = StateTomographyFitter(result, st_qcs)\n",
    "    rho_fit = tomo_fitter.fit(method = 'lstsq')\n",
    "    #Compute fidelity\n",
    "    fid = state_fidelity(rho_fit, target_state)\n",
    "    return fid\n",
    "\n",
    "#Compute tomography fidelities for each repitition\n",
    "fids = []\n",
    "for job in jobs:\n",
    "    fid = state_tomo(job.result(), st_qcs)\n",
    "    fids.append(fid)\n",
    "    \n",
    "print('State tomography fidelity = {:.4f} \\u00B1 {:.4f}'.format(np.mean(fids), np.std(fids)))"
   ]
  },
  {
   "cell_type": "markdown",
   "id": "bbd3d1b5",
   "metadata": {},
   "source": [
    "**3.0) Implementing Qiskit's Measurement Error Mitigation method**"
   ]
  },
  {
   "cell_type": "code",
   "execution_count": 74,
   "id": "6a6e4a99",
   "metadata": {},
   "outputs": [],
   "source": [
    "from qiskit import assemble\n",
    "from qiskit.ignis.mitigation.measurement import complete_meas_cal, CompleteMeasFitter"
   ]
  },
  {
   "cell_type": "code",
   "execution_count": 39,
   "id": "4d2f11fe",
   "metadata": {},
   "outputs": [],
   "source": [
    "meas_calibs, state_labels = complete_meas_cal(qr = qr, circlabel='mcal')"
   ]
  },
  {
   "cell_type": "code",
   "execution_count": 47,
   "id": "99736653",
   "metadata": {},
   "outputs": [
    {
     "name": "stderr",
     "output_type": "stream",
     "text": [
      "Simulation failed and returned the following error message:\n",
      "ERROR: Failed to load qobj: to_json not implemented for this type of object: <class 'qiskit.circuit.library.standard_gates.x.XGate'>\n"
     ]
    }
   ],
   "source": [
    "t_qc = transpile(meas_calibs, Aer.get_backend('aer_simulator'))\n",
    "qobj = assemble(t_qc, shots = 8192)\n",
    "cal_results = Aer.get_backend('aer_simulator').run(qobj, noise_model = st_qcs, shots = 8192).result()\n",
    "\n",
    "meas_fitter = CompleteMeasFitter(cal_results, state_labels, circlabel = 'mcal')"
   ]
  },
  {
   "cell_type": "markdown",
   "id": "d6b76dd0",
   "metadata": {},
   "source": [
    "Unfortunately, this method did not work."
   ]
  },
  {
   "cell_type": "markdown",
   "id": "36662b10",
   "metadata": {},
   "source": [
    "**3.1) Error Mitigation**"
   ]
  },
  {
   "cell_type": "markdown",
   "id": "352d8a13",
   "metadata": {},
   "source": [
    "By increasing the number of Trotter steps the fidelity does increase linearly with the number of steps after a threshold is reached. I believe this to be an upper bound of this method.<br>\n",
    "Thus, to increase the fidelity further we need different techniques. One such technique is error mitigation.<br>\n"
   ]
  },
  {
   "cell_type": "markdown",
   "id": "e4969efe",
   "metadata": {},
   "source": [
    "For this purpose, I used the Mitiq library developed by the Unitary Fund.<br>\n",
    "Their Zero Noise Extrapolation (ZNE) technique for error mitigation is used below."
   ]
  },
  {
   "cell_type": "code",
   "execution_count": 171,
   "id": "f8da546a",
   "metadata": {},
   "outputs": [],
   "source": [
    "circuit = qc\n",
    "#def from_qiskit(circuit: QuantumCircuit) -> cirq.Circuit:\n",
    "    \n",
    "    #return from_qasm(circuit.qasm())\n",
    "\n"
   ]
  },
  {
   "cell_type": "code",
   "execution_count": 10,
   "id": "b7035289",
   "metadata": {},
   "outputs": [],
   "source": [
    "import mitiq\n",
    "import cirq\n",
    "from mitiq import zne\n"
   ]
  },
  {
   "cell_type": "code",
   "execution_count": 173,
   "id": "0eeaf57a",
   "metadata": {},
   "outputs": [],
   "source": [
    "def jakarta_executor(circuit: QuantumCircuit, shots: int =8192) -> float:\n",
    "    \n",
    "    circuit.measure_all()\n",
    "    \n",
    "    backend = sim_noisy_jakarta\n",
    "    \n",
    "    job = execute(circuit, backend, shots = shots)\n",
    "    \n",
    "    job_monitor(job)\n",
    "    \n",
    "    counts = job.result().get_counts()\n",
    "    \n",
    "    print(counts)\n",
    "    \n",
    "    if counts.get(\"0\") is None:\n",
    "        expectation_value = 0\n",
    "    else:\n",
    "        expectation_value = counts.get(\"0\") / shots\n",
    "    \n",
    "    return expectation_value"
   ]
  },
  {
   "cell_type": "code",
   "execution_count": 174,
   "id": "297eb64e",
   "metadata": {},
   "outputs": [
    {
     "name": "stdout",
     "output_type": "stream",
     "text": [
      "Job Status: job has successfully run\n",
      "{'1000110': 1, '1110011': 1, '1101011': 1, '0000110': 2, '0010010': 5, '0101110': 9, '0001011': 6, '0101001': 96, '0001110': 3, '0101000': 3261, '0101100': 43, '0100100': 11, '0001010': 231, '0000010': 202, '0000001': 7, '1000010': 13, '0100011': 40, '0001000': 450, '1110010': 1, '0111000': 28, '0111010': 6, '1101010': 38, '1001001': 1, '1100010': 66, '0100000': 981, '0100010': 1143, '1101000': 208, '0101011': 16, '0000000': 492, '1000000': 21, '1001010': 16, '0011000': 3, '1001000': 26, '1111010': 1, '1100000': 49, '1000001': 1, '0001001': 9, '0110010': 6, '0010000': 6, '0001100': 5, '0000011': 4, '0010001': 1, '0000100': 6, '0100001': 35, '0101101': 3, '0111001': 3, '0100110': 12, '0101010': 600, '0011010': 6, '1101100': 3, '0110000': 10, '1101001': 4}\n",
      "Job Status: job has successfully run\n",
      "{'1011010': 1, '1010000': 1, '1100110': 2, '0000100': 7, '0101101': 1, '0011000': 2, '0000110': 1, '0100100': 9, '0001011': 4, '0111010': 9, '0111000': 25, '0101001': 88, '0101000': 3325, '0101100': 43, '0101011': 11, '0000000': 479, '1100011': 3, '1101000': 199, '0000010': 189, '0001010': 206, '0100000': 965, '1001000': 28, '1101010': 43, '1001001': 1, '1100010': 77, '0001000': 455, '0110000': 1, '1101100': 2, '1111000': 1, '0011010': 1, '0101010': 596, '1100001': 1, '0100010': 1180, '0010010': 3, '0010110': 1, '0110010': 16, '1100000': 51, '0001001': 9, '1000000': 27, '1001010': 12, '0000011': 6, '0101110': 10, '0100001': 21, '1000010': 10, '0000001': 12, '1101001': 3, '0111001': 2, '0100110': 12, '0111011': 1, '1000100': 1, '0010000': 2, '0001100': 4, '0100011': 33}\n",
      "Job Status: job has successfully run\n",
      "{'1101011': 1, '1100001': 1, '0111100': 1, '0110011': 1, '1101001': 2, '0001111': 1, '0010010': 4, '0111001': 1, '0100110': 12, '0001001': 9, '1100000': 55, '0110010': 12, '0100100': 12, '0001011': 10, '0101100': 40, '0000010': 180, '0001010': 237, '0100000': 943, '0001000': 425, '1111000': 3, '1101100': 3, '0110000': 7, '0011010': 1, '0101010': 581, '0100010': 1189, '0100011': 33, '1001011': 1, '0111000': 26, '0111010': 5, '0000110': 2, '0001110': 1, '0101000': 3350, '0101001': 87, '0101011': 15, '0000000': 499, '1101000': 189, '1100011': 3, '1100010': 69, '1101010': 47, '1001000': 26, '0101110': 6, '1000010': 10, '0000001': 7, '1000000': 31, '1001010': 12, '1100100': 2, '0011000': 3, '0000100': 6, '0000011': 5, '0100001': 17, '0001100': 4, '0010000': 4, '0101101': 1}\n"
     ]
    }
   ],
   "source": [
    "#print( expectation_value)\n",
    "circuit = qiskit.compiler.transpile(qc, basis_gates = [\"u1\", \"u2\", \"u3\", \"cx\"])\n",
    "mitigated = mitiq.zne.zne.execute_with_zne(circuit, jakarta_executor)"
   ]
  },
  {
   "cell_type": "code",
   "execution_count": 161,
   "id": "f52aa624",
   "metadata": {},
   "outputs": [
    {
     "data": {
      "text/html": [
       "<pre style=\"word-wrap: normal;white-space: pre;background: #fff0;line-height: 1.1;font-family: &quot;Courier New&quot;,Courier,monospace\">                                                         »\n",
       "q2_0: ───────────────────────────────────────────────────»\n",
       "           ┌─────────────────────┐┌─────────────────────┐»\n",
       "q2_1: ─────┤0                    ├┤0                    ├»\n",
       "           │                     ││                     │»\n",
       "q2_2: ─────┤                     ├┤                     ├»\n",
       "      ┌───┐│                     ││                     │»\n",
       "q2_3: ┤ X ├┤1 circuit-1037(π/12) ├┤1 circuit-1037(π/12) ├»\n",
       "      └───┘│                     ││                     │»\n",
       "q2_4: ─────┤                     ├┤                     ├»\n",
       "      ┌───┐│                     ││                     │»\n",
       "q2_5: ┤ X ├┤2                    ├┤2                    ├»\n",
       "      └───┘└─────────────────────┘└─────────────────────┘»\n",
       "q2_6: ───────────────────────────────────────────────────»\n",
       "                                                         »\n",
       "c5: 3/═══════════════════════════════════════════════════»\n",
       "                                                         »\n",
       "«                                                                           »\n",
       "«q2_0: ─────────────────────────────────────────────────────────────────────»\n",
       "«      ┌─────────────────────┐┌─────────────────────┐┌─────────────────────┐»\n",
       "«q2_1: ┤0                    ├┤0                    ├┤0                    ├»\n",
       "«      │                     ││                     ││                     │»\n",
       "«q2_2: ┤                     ├┤                     ├┤                     ├»\n",
       "«      │                     ││                     ││                     │»\n",
       "«q2_3: ┤1 circuit-1037(π/12) ├┤1 circuit-1037(π/12) ├┤1 circuit-1037(π/12) ├»\n",
       "«      │                     ││                     ││                     │»\n",
       "«q2_4: ┤                     ├┤                     ├┤                     ├»\n",
       "«      │                     ││                     ││                     │»\n",
       "«q2_5: ┤2                    ├┤2                    ├┤2                    ├»\n",
       "«      └─────────────────────┘└─────────────────────┘└─────────────────────┘»\n",
       "«q2_6: ─────────────────────────────────────────────────────────────────────»\n",
       "«                                                                           »\n",
       "«c5: 3/═════════════════════════════════════════════════════════════════════»\n",
       "«                                                                           »\n",
       "«                                                                           »\n",
       "«q2_0: ─────────────────────────────────────────────────────────────────────»\n",
       "«      ┌─────────────────────┐┌─────────────────────┐┌─────────────────────┐»\n",
       "«q2_1: ┤0                    ├┤0                    ├┤0                    ├»\n",
       "«      │                     ││                     ││                     │»\n",
       "«q2_2: ┤                     ├┤                     ├┤                     ├»\n",
       "«      │                     ││                     ││                     │»\n",
       "«q2_3: ┤1 circuit-1037(π/12) ├┤1 circuit-1037(π/12) ├┤1 circuit-1037(π/12) ├»\n",
       "«      │                     ││                     ││                     │»\n",
       "«q2_4: ┤                     ├┤                     ├┤                     ├»\n",
       "«      │                     ││                     ││                     │»\n",
       "«q2_5: ┤2                    ├┤2                    ├┤2                    ├»\n",
       "«      └─────────────────────┘└─────────────────────┘└─────────────────────┘»\n",
       "«q2_6: ─────────────────────────────────────────────────────────────────────»\n",
       "«                                                                           »\n",
       "«c5: 3/═════════════════════════════════════════════════════════════════════»\n",
       "«                                                                           »\n",
       "«                                                                           »\n",
       "«q2_0: ─────────────────────────────────────────────────────────────────────»\n",
       "«      ┌─────────────────────┐┌─────────────────────┐┌─────────────────────┐»\n",
       "«q2_1: ┤0                    ├┤0                    ├┤0                    ├»\n",
       "«      │                     ││                     ││                     │»\n",
       "«q2_2: ┤                     ├┤                     ├┤                     ├»\n",
       "«      │                     ││                     ││                     │»\n",
       "«q2_3: ┤1 circuit-1037(π/12) ├┤1 circuit-1037(π/12) ├┤1 circuit-1037(π/12) ├»\n",
       "«      │                     ││                     ││                     │»\n",
       "«q2_4: ┤                     ├┤                     ├┤                     ├»\n",
       "«      │                     ││                     ││                     │»\n",
       "«q2_5: ┤2                    ├┤2                    ├┤2                    ├»\n",
       "«      └─────────────────────┘└─────────────────────┘└─────────────────────┘»\n",
       "«q2_6: ─────────────────────────────────────────────────────────────────────»\n",
       "«                                                                           »\n",
       "«c5: 3/═════════════════════════════════════════════════════════════════════»\n",
       "«                                                                           »\n",
       "«                              ░          \n",
       "«q2_0: ────────────────────────░──────────\n",
       "«      ┌─────────────────────┐ ░ ┌─┐      \n",
       "«q2_1: ┤0                    ├─░─┤M├──────\n",
       "«      │                     │ ░ └╥┘      \n",
       "«q2_2: ┤                     ├─░──╫───────\n",
       "«      │                     │ ░  ║ ┌─┐   \n",
       "«q2_3: ┤1 circuit-1037(π/12) ├─░──╫─┤M├───\n",
       "«      │                     │ ░  ║ └╥┘   \n",
       "«q2_4: ┤                     ├─░──╫──╫────\n",
       "«      │                     │ ░  ║  ║ ┌─┐\n",
       "«q2_5: ┤2                    ├─░──╫──╫─┤M├\n",
       "«      └─────────────────────┘ ░  ║  ║ └╥┘\n",
       "«q2_6: ────────────────────────░──╫──╫──╫─\n",
       "«                              ░  ║  ║  ║ \n",
       "«c5: 3/═══════════════════════════╩══╩══╩═\n",
       "«                                 0  1  2 </pre>"
      ],
      "text/plain": [
       "                                                         »\n",
       "q2_0: ───────────────────────────────────────────────────»\n",
       "           ┌─────────────────────┐┌─────────────────────┐»\n",
       "q2_1: ─────┤0                    ├┤0                    ├»\n",
       "           │                     ││                     │»\n",
       "q2_2: ─────┤                     ├┤                     ├»\n",
       "      ┌───┐│                     ││                     │»\n",
       "q2_3: ┤ X ├┤1 circuit-1037(π/12) ├┤1 circuit-1037(π/12) ├»\n",
       "      └───┘│                     ││                     │»\n",
       "q2_4: ─────┤                     ├┤                     ├»\n",
       "      ┌───┐│                     ││                     │»\n",
       "q2_5: ┤ X ├┤2                    ├┤2                    ├»\n",
       "      └───┘└─────────────────────┘└─────────────────────┘»\n",
       "q2_6: ───────────────────────────────────────────────────»\n",
       "                                                         »\n",
       "c5: 3/═══════════════════════════════════════════════════»\n",
       "                                                         »\n",
       "«                                                                           »\n",
       "«q2_0: ─────────────────────────────────────────────────────────────────────»\n",
       "«      ┌─────────────────────┐┌─────────────────────┐┌─────────────────────┐»\n",
       "«q2_1: ┤0                    ├┤0                    ├┤0                    ├»\n",
       "«      │                     ││                     ││                     │»\n",
       "«q2_2: ┤                     ├┤                     ├┤                     ├»\n",
       "«      │                     ││                     ││                     │»\n",
       "«q2_3: ┤1 circuit-1037(π/12) ├┤1 circuit-1037(π/12) ├┤1 circuit-1037(π/12) ├»\n",
       "«      │                     ││                     ││                     │»\n",
       "«q2_4: ┤                     ├┤                     ├┤                     ├»\n",
       "«      │                     ││                     ││                     │»\n",
       "«q2_5: ┤2                    ├┤2                    ├┤2                    ├»\n",
       "«      └─────────────────────┘└─────────────────────┘└─────────────────────┘»\n",
       "«q2_6: ─────────────────────────────────────────────────────────────────────»\n",
       "«                                                                           »\n",
       "«c5: 3/═════════════════════════════════════════════════════════════════════»\n",
       "«                                                                           »\n",
       "«                                                                           »\n",
       "«q2_0: ─────────────────────────────────────────────────────────────────────»\n",
       "«      ┌─────────────────────┐┌─────────────────────┐┌─────────────────────┐»\n",
       "«q2_1: ┤0                    ├┤0                    ├┤0                    ├»\n",
       "«      │                     ││                     ││                     │»\n",
       "«q2_2: ┤                     ├┤                     ├┤                     ├»\n",
       "«      │                     ││                     ││                     │»\n",
       "«q2_3: ┤1 circuit-1037(π/12) ├┤1 circuit-1037(π/12) ├┤1 circuit-1037(π/12) ├»\n",
       "«      │                     ││                     ││                     │»\n",
       "«q2_4: ┤                     ├┤                     ├┤                     ├»\n",
       "«      │                     ││                     ││                     │»\n",
       "«q2_5: ┤2                    ├┤2                    ├┤2                    ├»\n",
       "«      └─────────────────────┘└─────────────────────┘└─────────────────────┘»\n",
       "«q2_6: ─────────────────────────────────────────────────────────────────────»\n",
       "«                                                                           »\n",
       "«c5: 3/═════════════════════════════════════════════════════════════════════»\n",
       "«                                                                           »\n",
       "«                                                                           »\n",
       "«q2_0: ─────────────────────────────────────────────────────────────────────»\n",
       "«      ┌─────────────────────┐┌─────────────────────┐┌─────────────────────┐»\n",
       "«q2_1: ┤0                    ├┤0                    ├┤0                    ├»\n",
       "«      │                     ││                     ││                     │»\n",
       "«q2_2: ┤                     ├┤                     ├┤                     ├»\n",
       "«      │                     ││                     ││                     │»\n",
       "«q2_3: ┤1 circuit-1037(π/12) ├┤1 circuit-1037(π/12) ├┤1 circuit-1037(π/12) ├»\n",
       "«      │                     ││                     ││                     │»\n",
       "«q2_4: ┤                     ├┤                     ├┤                     ├»\n",
       "«      │                     ││                     ││                     │»\n",
       "«q2_5: ┤2                    ├┤2                    ├┤2                    ├»\n",
       "«      └─────────────────────┘└─────────────────────┘└─────────────────────┘»\n",
       "«q2_6: ─────────────────────────────────────────────────────────────────────»\n",
       "«                                                                           »\n",
       "«c5: 3/═════════════════════════════════════════════════════════════════════»\n",
       "«                                                                           »\n",
       "«                              ░          \n",
       "«q2_0: ────────────────────────░──────────\n",
       "«      ┌─────────────────────┐ ░ ┌─┐      \n",
       "«q2_1: ┤0                    ├─░─┤M├──────\n",
       "«      │                     │ ░ └╥┘      \n",
       "«q2_2: ┤                     ├─░──╫───────\n",
       "«      │                     │ ░  ║ ┌─┐   \n",
       "«q2_3: ┤1 circuit-1037(π/12) ├─░──╫─┤M├───\n",
       "«      │                     │ ░  ║ └╥┘   \n",
       "«q2_4: ┤                     ├─░──╫──╫────\n",
       "«      │                     │ ░  ║  ║ ┌─┐\n",
       "«q2_5: ┤2                    ├─░──╫──╫─┤M├\n",
       "«      └─────────────────────┘ ░  ║  ║ └╥┘\n",
       "«q2_6: ────────────────────────░──╫──╫──╫─\n",
       "«                              ░  ║  ║  ║ \n",
       "«c5: 3/═══════════════════════════╩══╩══╩═\n",
       "«                                 0  1  2 "
      ]
     },
     "execution_count": 161,
     "metadata": {},
     "output_type": "execute_result"
    }
   ],
   "source": [
    "#Generate state tomography circuitsto evaluate the fidelity of the simulation\n",
    "st_qcs = state_tomography_circuits(qc, [qr[1], qr[3], qr[5]])\n",
    "\n",
    "#Display circuit for confirmation\n",
    "st_qcs[-1].decompose().draw() #view decomposition of trotter gates\n",
    "st_qcs[-1].draw()"
   ]
  },
  {
   "cell_type": "code",
   "execution_count": 162,
   "id": "ac61b025",
   "metadata": {},
   "outputs": [
    {
     "name": "stdout",
     "output_type": "stream",
     "text": [
      "Job ID 4774a26f-8d77-460d-9315-1201dbf658c9\n",
      "Job ID 744a9dbe-f8fa-47fc-ba40-ebd9423a3202\n",
      "Job ID 428e4f30-a62f-484e-b4a5-34f4ff3aea70\n",
      "Job ID fef389a2-b01e-44f3-992e-34ad116d5838\n",
      "Job ID 4cd46e11-b851-40c7-9d76-81b47f51ea55\n",
      "Job ID 43abfd11-a768-42fc-b829-408ad173c81d\n",
      "Job ID 163adca3-5554-45b7-93d2-8fb12bf9d3a3\n",
      "Job ID 9d5585bf-91f8-4140-943c-aaf2c6d30ab7\n"
     ]
    }
   ],
   "source": [
    "shots = 8192\n",
    "reps = 8\n",
    "backend = sim_noisy_jakarta\n",
    "\n",
    "jobs = []\n",
    "for _ in range(reps):\n",
    "    job = execute(st_qcs, backend, shots = shots)\n",
    "    print('Job ID', job.job_id())\n",
    "    jobs.append(job)"
   ]
  },
  {
   "cell_type": "code",
   "execution_count": 163,
   "id": "7bb8f50d",
   "metadata": {},
   "outputs": [
    {
     "name": "stdout",
     "output_type": "stream",
     "text": [
      "\r",
      "Job Status: job has successfully run\n",
      "\r",
      "Job Status: job has successfully run\n",
      "\r",
      "Job Status: job has successfully run\n",
      "\r",
      "Job Status: job has successfully run\n",
      "\r",
      "Job Status: job has successfully run\n",
      "\r",
      "Job Status: job has successfully run\n",
      "\r",
      "Job Status: job has successfully run\n",
      "\r",
      "Job Status: job has successfully run\n"
     ]
    }
   ],
   "source": [
    "for job in jobs:\n",
    "    job_monitor(job)\n",
    "    try:\n",
    "        if job.error_message() is not None:\n",
    "            print(job.error_message())\n",
    "            \n",
    "    except:\n",
    "        pass"
   ]
  },
  {
   "cell_type": "code",
   "execution_count": 164,
   "id": "7a8eca4d",
   "metadata": {},
   "outputs": [
    {
     "name": "stdout",
     "output_type": "stream",
     "text": [
      "State tomography fidelity = 0.4488 ± 0.0016\n"
     ]
    }
   ],
   "source": [
    "#Compute the state tomography based on the st_qcs quantum circuits and the results\n",
    "def state_tomo(result, st_qcs):\n",
    "    #The expected final state necessary to determine the state tomography fidelity\n",
    "    target_state = (One^One^Zero).to_matrix()\n",
    "    #Fit state tomography results\n",
    "    tomo_fitter = StateTomographyFitter(result, st_qcs)\n",
    "    rho_fit = tomo_fitter.fit(method = 'lstsq')\n",
    "    #Compute fidelity\n",
    "    fid = state_fidelity(rho_fit, target_state)\n",
    "    return fid\n",
    "\n",
    "#Compute tomography fidelities for each repitition\n",
    "fids = []\n",
    "for job in jobs:\n",
    "    fid = state_tomo(job.result(), st_qcs)\n",
    "    fids.append(fid)\n",
    "    \n",
    "print('State tomography fidelity = {:.4f} \\u00B1 {:.4f}'.format(np.mean(fids), np.std(fids)))"
   ]
  },
  {
   "cell_type": "markdown",
   "id": "e873ca53",
   "metadata": {},
   "source": [
    "**Implementing the error mitigation technique on QasmSimulator**"
   ]
  },
  {
   "cell_type": "code",
   "execution_count": 175,
   "id": "9ae4d446",
   "metadata": {},
   "outputs": [],
   "source": [
    "def jakarta_executor(circuit: QuantumCircuit, shots: int =8192) -> float:\n",
    "    \n",
    "    circuit.measure_all()\n",
    "    \n",
    "    backend = QasmSimulator()\n",
    "    \n",
    "    job = execute(circuit, backend, shots = shots)\n",
    "    \n",
    "    job_monitor(job)\n",
    "    \n",
    "    counts = job.result().get_counts()\n",
    "    \n",
    "    print(counts)\n",
    "    \n",
    "    if counts.get(\"0\") is None:\n",
    "        expectation_value = 0\n",
    "    else:\n",
    "        expectation_value = counts.get(\"0\") / shots\n",
    "    \n",
    "    return expectation_value"
   ]
  },
  {
   "cell_type": "code",
   "execution_count": 176,
   "id": "bb8a332a",
   "metadata": {},
   "outputs": [
    {
     "name": "stdout",
     "output_type": "stream",
     "text": [
      "Job Status: job has successfully run\n",
      "{'0100010': 1746, '0001010': 129, '0101000': 6317}\n",
      "Job Status: job has successfully run\n",
      "{'0001010': 156, '0101000': 6266, '0100010': 1770}\n",
      "Job Status: job has successfully run\n",
      "{'0100010': 1775, '0001010': 177, '0101000': 6240}\n"
     ]
    }
   ],
   "source": [
    "circuit = qiskit.compiler.transpile(qc, basis_gates = [\"u1\", \"u2\", \"u3\", \"cx\"])\n",
    "mitigated = mitiq.zne.zne.execute_with_zne(circuit, jakarta_executor)"
   ]
  },
  {
   "cell_type": "code",
   "execution_count": 177,
   "id": "39410900",
   "metadata": {},
   "outputs": [
    {
     "data": {
      "text/html": [
       "<pre style=\"word-wrap: normal;white-space: pre;background: #fff0;line-height: 1.1;font-family: &quot;Courier New&quot;,Courier,monospace\">                                                         »\n",
       "q2_0: ───────────────────────────────────────────────────»\n",
       "           ┌─────────────────────┐┌─────────────────────┐»\n",
       "q2_1: ─────┤0                    ├┤0                    ├»\n",
       "           │                     ││                     │»\n",
       "q2_2: ─────┤                     ├┤                     ├»\n",
       "      ┌───┐│                     ││                     │»\n",
       "q2_3: ┤ X ├┤1 circuit-1037(π/12) ├┤1 circuit-1037(π/12) ├»\n",
       "      └───┘│                     ││                     │»\n",
       "q2_4: ─────┤                     ├┤                     ├»\n",
       "      ┌───┐│                     ││                     │»\n",
       "q2_5: ┤ X ├┤2                    ├┤2                    ├»\n",
       "      └───┘└─────────────────────┘└─────────────────────┘»\n",
       "q2_6: ───────────────────────────────────────────────────»\n",
       "                                                         »\n",
       "c6: 3/═══════════════════════════════════════════════════»\n",
       "                                                         »\n",
       "«                                                                           »\n",
       "«q2_0: ─────────────────────────────────────────────────────────────────────»\n",
       "«      ┌─────────────────────┐┌─────────────────────┐┌─────────────────────┐»\n",
       "«q2_1: ┤0                    ├┤0                    ├┤0                    ├»\n",
       "«      │                     ││                     ││                     │»\n",
       "«q2_2: ┤                     ├┤                     ├┤                     ├»\n",
       "«      │                     ││                     ││                     │»\n",
       "«q2_3: ┤1 circuit-1037(π/12) ├┤1 circuit-1037(π/12) ├┤1 circuit-1037(π/12) ├»\n",
       "«      │                     ││                     ││                     │»\n",
       "«q2_4: ┤                     ├┤                     ├┤                     ├»\n",
       "«      │                     ││                     ││                     │»\n",
       "«q2_5: ┤2                    ├┤2                    ├┤2                    ├»\n",
       "«      └─────────────────────┘└─────────────────────┘└─────────────────────┘»\n",
       "«q2_6: ─────────────────────────────────────────────────────────────────────»\n",
       "«                                                                           »\n",
       "«c6: 3/═════════════════════════════════════════════════════════════════════»\n",
       "«                                                                           »\n",
       "«                                                                           »\n",
       "«q2_0: ─────────────────────────────────────────────────────────────────────»\n",
       "«      ┌─────────────────────┐┌─────────────────────┐┌─────────────────────┐»\n",
       "«q2_1: ┤0                    ├┤0                    ├┤0                    ├»\n",
       "«      │                     ││                     ││                     │»\n",
       "«q2_2: ┤                     ├┤                     ├┤                     ├»\n",
       "«      │                     ││                     ││                     │»\n",
       "«q2_3: ┤1 circuit-1037(π/12) ├┤1 circuit-1037(π/12) ├┤1 circuit-1037(π/12) ├»\n",
       "«      │                     ││                     ││                     │»\n",
       "«q2_4: ┤                     ├┤                     ├┤                     ├»\n",
       "«      │                     ││                     ││                     │»\n",
       "«q2_5: ┤2                    ├┤2                    ├┤2                    ├»\n",
       "«      └─────────────────────┘└─────────────────────┘└─────────────────────┘»\n",
       "«q2_6: ─────────────────────────────────────────────────────────────────────»\n",
       "«                                                                           »\n",
       "«c6: 3/═════════════════════════════════════════════════════════════════════»\n",
       "«                                                                           »\n",
       "«                                                                           »\n",
       "«q2_0: ─────────────────────────────────────────────────────────────────────»\n",
       "«      ┌─────────────────────┐┌─────────────────────┐┌─────────────────────┐»\n",
       "«q2_1: ┤0                    ├┤0                    ├┤0                    ├»\n",
       "«      │                     ││                     ││                     │»\n",
       "«q2_2: ┤                     ├┤                     ├┤                     ├»\n",
       "«      │                     ││                     ││                     │»\n",
       "«q2_3: ┤1 circuit-1037(π/12) ├┤1 circuit-1037(π/12) ├┤1 circuit-1037(π/12) ├»\n",
       "«      │                     ││                     ││                     │»\n",
       "«q2_4: ┤                     ├┤                     ├┤                     ├»\n",
       "«      │                     ││                     ││                     │»\n",
       "«q2_5: ┤2                    ├┤2                    ├┤2                    ├»\n",
       "«      └─────────────────────┘└─────────────────────┘└─────────────────────┘»\n",
       "«q2_6: ─────────────────────────────────────────────────────────────────────»\n",
       "«                                                                           »\n",
       "«c6: 3/═════════════════════════════════════════════════════════════════════»\n",
       "«                                                                           »\n",
       "«                              ░          \n",
       "«q2_0: ────────────────────────░──────────\n",
       "«      ┌─────────────────────┐ ░ ┌─┐      \n",
       "«q2_1: ┤0                    ├─░─┤M├──────\n",
       "«      │                     │ ░ └╥┘      \n",
       "«q2_2: ┤                     ├─░──╫───────\n",
       "«      │                     │ ░  ║ ┌─┐   \n",
       "«q2_3: ┤1 circuit-1037(π/12) ├─░──╫─┤M├───\n",
       "«      │                     │ ░  ║ └╥┘   \n",
       "«q2_4: ┤                     ├─░──╫──╫────\n",
       "«      │                     │ ░  ║  ║ ┌─┐\n",
       "«q2_5: ┤2                    ├─░──╫──╫─┤M├\n",
       "«      └─────────────────────┘ ░  ║  ║ └╥┘\n",
       "«q2_6: ────────────────────────░──╫──╫──╫─\n",
       "«                              ░  ║  ║  ║ \n",
       "«c6: 3/═══════════════════════════╩══╩══╩═\n",
       "«                                 0  1  2 </pre>"
      ],
      "text/plain": [
       "                                                         »\n",
       "q2_0: ───────────────────────────────────────────────────»\n",
       "           ┌─────────────────────┐┌─────────────────────┐»\n",
       "q2_1: ─────┤0                    ├┤0                    ├»\n",
       "           │                     ││                     │»\n",
       "q2_2: ─────┤                     ├┤                     ├»\n",
       "      ┌───┐│                     ││                     │»\n",
       "q2_3: ┤ X ├┤1 circuit-1037(π/12) ├┤1 circuit-1037(π/12) ├»\n",
       "      └───┘│                     ││                     │»\n",
       "q2_4: ─────┤                     ├┤                     ├»\n",
       "      ┌───┐│                     ││                     │»\n",
       "q2_5: ┤ X ├┤2                    ├┤2                    ├»\n",
       "      └───┘└─────────────────────┘└─────────────────────┘»\n",
       "q2_6: ───────────────────────────────────────────────────»\n",
       "                                                         »\n",
       "c6: 3/═══════════════════════════════════════════════════»\n",
       "                                                         »\n",
       "«                                                                           »\n",
       "«q2_0: ─────────────────────────────────────────────────────────────────────»\n",
       "«      ┌─────────────────────┐┌─────────────────────┐┌─────────────────────┐»\n",
       "«q2_1: ┤0                    ├┤0                    ├┤0                    ├»\n",
       "«      │                     ││                     ││                     │»\n",
       "«q2_2: ┤                     ├┤                     ├┤                     ├»\n",
       "«      │                     ││                     ││                     │»\n",
       "«q2_3: ┤1 circuit-1037(π/12) ├┤1 circuit-1037(π/12) ├┤1 circuit-1037(π/12) ├»\n",
       "«      │                     ││                     ││                     │»\n",
       "«q2_4: ┤                     ├┤                     ├┤                     ├»\n",
       "«      │                     ││                     ││                     │»\n",
       "«q2_5: ┤2                    ├┤2                    ├┤2                    ├»\n",
       "«      └─────────────────────┘└─────────────────────┘└─────────────────────┘»\n",
       "«q2_6: ─────────────────────────────────────────────────────────────────────»\n",
       "«                                                                           »\n",
       "«c6: 3/═════════════════════════════════════════════════════════════════════»\n",
       "«                                                                           »\n",
       "«                                                                           »\n",
       "«q2_0: ─────────────────────────────────────────────────────────────────────»\n",
       "«      ┌─────────────────────┐┌─────────────────────┐┌─────────────────────┐»\n",
       "«q2_1: ┤0                    ├┤0                    ├┤0                    ├»\n",
       "«      │                     ││                     ││                     │»\n",
       "«q2_2: ┤                     ├┤                     ├┤                     ├»\n",
       "«      │                     ││                     ││                     │»\n",
       "«q2_3: ┤1 circuit-1037(π/12) ├┤1 circuit-1037(π/12) ├┤1 circuit-1037(π/12) ├»\n",
       "«      │                     ││                     ││                     │»\n",
       "«q2_4: ┤                     ├┤                     ├┤                     ├»\n",
       "«      │                     ││                     ││                     │»\n",
       "«q2_5: ┤2                    ├┤2                    ├┤2                    ├»\n",
       "«      └─────────────────────┘└─────────────────────┘└─────────────────────┘»\n",
       "«q2_6: ─────────────────────────────────────────────────────────────────────»\n",
       "«                                                                           »\n",
       "«c6: 3/═════════════════════════════════════════════════════════════════════»\n",
       "«                                                                           »\n",
       "«                                                                           »\n",
       "«q2_0: ─────────────────────────────────────────────────────────────────────»\n",
       "«      ┌─────────────────────┐┌─────────────────────┐┌─────────────────────┐»\n",
       "«q2_1: ┤0                    ├┤0                    ├┤0                    ├»\n",
       "«      │                     ││                     ││                     │»\n",
       "«q2_2: ┤                     ├┤                     ├┤                     ├»\n",
       "«      │                     ││                     ││                     │»\n",
       "«q2_3: ┤1 circuit-1037(π/12) ├┤1 circuit-1037(π/12) ├┤1 circuit-1037(π/12) ├»\n",
       "«      │                     ││                     ││                     │»\n",
       "«q2_4: ┤                     ├┤                     ├┤                     ├»\n",
       "«      │                     ││                     ││                     │»\n",
       "«q2_5: ┤2                    ├┤2                    ├┤2                    ├»\n",
       "«      └─────────────────────┘└─────────────────────┘└─────────────────────┘»\n",
       "«q2_6: ─────────────────────────────────────────────────────────────────────»\n",
       "«                                                                           »\n",
       "«c6: 3/═════════════════════════════════════════════════════════════════════»\n",
       "«                                                                           »\n",
       "«                              ░          \n",
       "«q2_0: ────────────────────────░──────────\n",
       "«      ┌─────────────────────┐ ░ ┌─┐      \n",
       "«q2_1: ┤0                    ├─░─┤M├──────\n",
       "«      │                     │ ░ └╥┘      \n",
       "«q2_2: ┤                     ├─░──╫───────\n",
       "«      │                     │ ░  ║ ┌─┐   \n",
       "«q2_3: ┤1 circuit-1037(π/12) ├─░──╫─┤M├───\n",
       "«      │                     │ ░  ║ └╥┘   \n",
       "«q2_4: ┤                     ├─░──╫──╫────\n",
       "«      │                     │ ░  ║  ║ ┌─┐\n",
       "«q2_5: ┤2                    ├─░──╫──╫─┤M├\n",
       "«      └─────────────────────┘ ░  ║  ║ └╥┘\n",
       "«q2_6: ────────────────────────░──╫──╫──╫─\n",
       "«                              ░  ║  ║  ║ \n",
       "«c6: 3/═══════════════════════════╩══╩══╩═\n",
       "«                                 0  1  2 "
      ]
     },
     "execution_count": 177,
     "metadata": {},
     "output_type": "execute_result"
    }
   ],
   "source": [
    "#Generate state tomography circuitsto evaluate the fidelity of the simulation\n",
    "st_qcs = state_tomography_circuits(qc, [qr[1], qr[3], qr[5]])\n",
    "\n",
    "#Display circuit for confirmation\n",
    "st_qcs[-1].decompose().draw() #view decomposition of trotter gates\n",
    "st_qcs[-1].draw()"
   ]
  },
  {
   "cell_type": "code",
   "execution_count": 178,
   "id": "0f611347",
   "metadata": {},
   "outputs": [
    {
     "name": "stdout",
     "output_type": "stream",
     "text": [
      "Job ID ad279781-3220-4944-b460-4c58a1e8039f\n",
      "Job ID 5a1b299c-6392-4c97-ab53-4af61cb3b5f9\n",
      "Job ID db6feff2-e608-4582-94ca-176527407b0e\n",
      "Job ID 84d8e878-4559-4eae-b187-a9e537122b0f\n",
      "Job ID 465fb6b8-9834-4d13-8d5b-a21742b5d7bb\n",
      "Job ID d9aabd4c-c483-4263-85e7-743cb0aec6d3\n",
      "Job ID d2a9f9d4-a511-43cf-8883-b1d8ed8fd3d6\n",
      "Job ID 01dc7394-84fa-43d7-8630-11e0de139b4e\n"
     ]
    }
   ],
   "source": [
    "shots = 8192\n",
    "reps = 8\n",
    "backend = QasmSimulator()\n",
    "\n",
    "jobs = []\n",
    "for _ in range(reps):\n",
    "    job = execute(st_qcs, backend, shots = shots)\n",
    "    print('Job ID', job.job_id())\n",
    "    jobs.append(job)"
   ]
  },
  {
   "cell_type": "code",
   "execution_count": 179,
   "id": "a5e7fa67",
   "metadata": {},
   "outputs": [
    {
     "name": "stdout",
     "output_type": "stream",
     "text": [
      "\r",
      "Job Status: job has successfully run\n",
      "\r",
      "Job Status: job has successfully run\n",
      "\r",
      "Job Status: job has successfully run\n",
      "\r",
      "Job Status: job has successfully run\n",
      "\r",
      "Job Status: job has successfully run\n",
      "\r",
      "Job Status: job has successfully run\n",
      "\r",
      "Job Status: job has successfully run\n",
      "\r",
      "Job Status: job has successfully run\n"
     ]
    }
   ],
   "source": [
    "for job in jobs:\n",
    "    job_monitor(job)\n",
    "    try:\n",
    "        if job.error_message() is not None:\n",
    "            print(job.error_message())\n",
    "            \n",
    "    except:\n",
    "        pass"
   ]
  },
  {
   "cell_type": "code",
   "execution_count": 180,
   "id": "395d06d8",
   "metadata": {},
   "outputs": [
    {
     "name": "stdout",
     "output_type": "stream",
     "text": [
      "State tomography fidelity = 0.7579 ± 0.0010\n"
     ]
    }
   ],
   "source": [
    "#Compute the state tomography based on the st_qcs quantum circuits and the results\n",
    "def state_tomo(result, st_qcs):\n",
    "    #The expected final state necessary to determine the state tomography fidelity\n",
    "    target_state = (One^One^Zero).to_matrix()\n",
    "    #Fit state tomography results\n",
    "    tomo_fitter = StateTomographyFitter(result, st_qcs)\n",
    "    rho_fit = tomo_fitter.fit(method = 'lstsq')\n",
    "    #Compute fidelity\n",
    "    fid = state_fidelity(rho_fit, target_state)\n",
    "    return fid\n",
    "\n",
    "#Compute tomography fidelities for each repitition\n",
    "fids = []\n",
    "for job in jobs:\n",
    "    fid = state_tomo(job.result(), st_qcs)\n",
    "    fids.append(fid)\n",
    "    \n",
    "print('State tomography fidelity = {:.4f} \\u00B1 {:.4f}'.format(np.mean(fids), np.std(fids)))"
   ]
  },
  {
   "cell_type": "code",
   "execution_count": 9,
   "id": "0d4ea1c9",
   "metadata": {},
   "outputs": [],
   "source": [
    "circuit = qc"
   ]
  },
  {
   "cell_type": "code",
   "execution_count": 182,
   "id": "0f6520dd",
   "metadata": {},
   "outputs": [],
   "source": [
    "def jakarta_executor(circuit: QuantumCircuit, shots: int =8192) -> float:\n",
    "    \n",
    "    circuit.measure_all()\n",
    "    \n",
    "    backend = sim_noisy_jakarta\n",
    "    \n",
    "    job = execute(circuit, backend, shots = shots)\n",
    "    \n",
    "    job_monitor(job)\n",
    "    \n",
    "    counts = job.result().get_counts()\n",
    "    \n",
    "    print(counts)\n",
    "    \n",
    "    if counts.get(\"0\") is None:\n",
    "        expectation_value = 0\n",
    "    else:\n",
    "        expectation_value = counts.get(\"0\") / shots\n",
    "    \n",
    "    return expectation_value"
   ]
  },
  {
   "cell_type": "code",
   "execution_count": 183,
   "id": "4db322d2",
   "metadata": {},
   "outputs": [
    {
     "name": "stdout",
     "output_type": "stream",
     "text": [
      "Job Status: job has successfully run\n",
      "{'0000101': 1, '1000110': 2, '1111001': 1, '0101101': 1, '1110000': 1, '0010010': 2, '0101110': 4, '0000011': 7, '0000110': 5, '0100110': 11, '0100011': 30, '1110010': 2, '0111010': 6, '0111000': 25, '0001011': 7, '0110010': 13, '1101110': 1, '1000001': 1, '0001001': 17, '0001000': 423, '0101100': 36, '1101010': 38, '1100010': 56, '0100000': 908, '0100010': 1191, '0011010': 2, '0101010': 623, '1001000': 18, '0101000': 3368, '0101001': 79, '0001010': 234, '0000010': 207, '0000000': 451, '1101000': 209, '0101011': 15, '0100100': 14, '1111000': 1, '1101100': 1, '0110000': 9, '1101001': 7, '1100000': 57, '1111010': 2, '1100100': 1, '0011000': 4, '1000000': 28, '1001010': 12, '1101011': 1, '0000001': 12, '1000010': 8, '0000100': 7, '0100001': 23, '1000100': 1, '0010000': 3, '0001100': 6}\n",
      "Job Status: job has successfully run\n",
      "{'1011000': 1, '1100001': 1, '0001001': 12, '1100110': 1, '0010010': 3, '1101101': 1, '0000011': 5, '0001011': 5, '0100110': 9, '1001100': 1, '1100000': 48, '0110010': 16, '0100100': 10, '0110110': 1, '0101001': 87, '0001110': 4, '0101000': 3287, '1100010': 82, '1101010': 29, '0100000': 927, '0001000': 430, '0000010': 201, '0001010': 239, '1000011': 1, '0101100': 38, '1101100': 1, '1111000': 4, '0110000': 7, '0111110': 1, '0101010': 589, '0100010': 1234, '1010010': 1, '1000000': 23, '1001010': 12, '0011000': 2, '1100011': 3, '0101011': 19, '1101000': 191, '0000000': 492, '0101110': 7, '0100011': 38, '0100001': 29, '0111000': 36, '0111010': 7, '0000110': 4, '1001000': 12, '0001100': 6, '0010000': 2, '0101111': 1, '0010001': 1, '0000100': 4, '1000010': 11, '0000001': 10, '1101001': 6}\n",
      "Job Status: job has successfully run\n",
      "{'1011010': 1, '0101111': 1, '0010010': 2, '0000011': 7, '0011000': 5, '1100110': 2, '0001011': 8, '0111010': 2, '0101100': 46, '0100100': 13, '0001010': 201, '0000010': 209, '1001010': 15, '1000000': 24, '0100001': 21, '1100011': 3, '1101000': 182, '0101011': 14, '0000000': 523, '0100000': 947, '0001000': 454, '1001000': 26, '0000100': 6, '1001011': 1, '0111000': 30, '0000110': 2, '0101001': 92, '0100010': 1150, '0111110': 1, '0011010': 1, '0101010': 573, '1100000': 61, '1000001': 1, '0001001': 20, '0110010': 7, '0100011': 29, '0111001': 3, '0100110': 3, '1111000': 2, '1101100': 3, '0110000': 8, '1101010': 44, '0010000': 2, '1000010': 13, '0000001': 19, '0101110': 9, '0101000': 3342, '0001110': 2, '0101101': 2, '1100010': 53, '1001001': 1, '1101001': 6}\n"
     ]
    }
   ],
   "source": [
    "circuit = qiskit.compiler.transpile(qc, basis_gates = [\"u1\", \"u2\", \"u3\", \"cx\"])\n",
    "mitigated = mitiq.zne.zne.execute_with_zne(circuit, jakarta_executor)"
   ]
  },
  {
   "cell_type": "code",
   "execution_count": 184,
   "id": "68007c90",
   "metadata": {},
   "outputs": [
    {
     "data": {
      "text/html": [
       "<pre style=\"word-wrap: normal;white-space: pre;background: #fff0;line-height: 1.1;font-family: &quot;Courier New&quot;,Courier,monospace\">                                                         »\n",
       "q2_0: ───────────────────────────────────────────────────»\n",
       "           ┌─────────────────────┐┌─────────────────────┐»\n",
       "q2_1: ─────┤0                    ├┤0                    ├»\n",
       "           │                     ││                     │»\n",
       "q2_2: ─────┤                     ├┤                     ├»\n",
       "      ┌───┐│                     ││                     │»\n",
       "q2_3: ┤ X ├┤1 circuit-1037(π/12) ├┤1 circuit-1037(π/12) ├»\n",
       "      └───┘│                     ││                     │»\n",
       "q2_4: ─────┤                     ├┤                     ├»\n",
       "      ┌───┐│                     ││                     │»\n",
       "q2_5: ┤ X ├┤2                    ├┤2                    ├»\n",
       "      └───┘└─────────────────────┘└─────────────────────┘»\n",
       "q2_6: ───────────────────────────────────────────────────»\n",
       "                                                         »\n",
       "c7: 3/═══════════════════════════════════════════════════»\n",
       "                                                         »\n",
       "«                                                                           »\n",
       "«q2_0: ─────────────────────────────────────────────────────────────────────»\n",
       "«      ┌─────────────────────┐┌─────────────────────┐┌─────────────────────┐»\n",
       "«q2_1: ┤0                    ├┤0                    ├┤0                    ├»\n",
       "«      │                     ││                     ││                     │»\n",
       "«q2_2: ┤                     ├┤                     ├┤                     ├»\n",
       "«      │                     ││                     ││                     │»\n",
       "«q2_3: ┤1 circuit-1037(π/12) ├┤1 circuit-1037(π/12) ├┤1 circuit-1037(π/12) ├»\n",
       "«      │                     ││                     ││                     │»\n",
       "«q2_4: ┤                     ├┤                     ├┤                     ├»\n",
       "«      │                     ││                     ││                     │»\n",
       "«q2_5: ┤2                    ├┤2                    ├┤2                    ├»\n",
       "«      └─────────────────────┘└─────────────────────┘└─────────────────────┘»\n",
       "«q2_6: ─────────────────────────────────────────────────────────────────────»\n",
       "«                                                                           »\n",
       "«c7: 3/═════════════════════════════════════════════════════════════════════»\n",
       "«                                                                           »\n",
       "«                                                                           »\n",
       "«q2_0: ─────────────────────────────────────────────────────────────────────»\n",
       "«      ┌─────────────────────┐┌─────────────────────┐┌─────────────────────┐»\n",
       "«q2_1: ┤0                    ├┤0                    ├┤0                    ├»\n",
       "«      │                     ││                     ││                     │»\n",
       "«q2_2: ┤                     ├┤                     ├┤                     ├»\n",
       "«      │                     ││                     ││                     │»\n",
       "«q2_3: ┤1 circuit-1037(π/12) ├┤1 circuit-1037(π/12) ├┤1 circuit-1037(π/12) ├»\n",
       "«      │                     ││                     ││                     │»\n",
       "«q2_4: ┤                     ├┤                     ├┤                     ├»\n",
       "«      │                     ││                     ││                     │»\n",
       "«q2_5: ┤2                    ├┤2                    ├┤2                    ├»\n",
       "«      └─────────────────────┘└─────────────────────┘└─────────────────────┘»\n",
       "«q2_6: ─────────────────────────────────────────────────────────────────────»\n",
       "«                                                                           »\n",
       "«c7: 3/═════════════════════════════════════════════════════════════════════»\n",
       "«                                                                           »\n",
       "«                                                                           »\n",
       "«q2_0: ─────────────────────────────────────────────────────────────────────»\n",
       "«      ┌─────────────────────┐┌─────────────────────┐┌─────────────────────┐»\n",
       "«q2_1: ┤0                    ├┤0                    ├┤0                    ├»\n",
       "«      │                     ││                     ││                     │»\n",
       "«q2_2: ┤                     ├┤                     ├┤                     ├»\n",
       "«      │                     ││                     ││                     │»\n",
       "«q2_3: ┤1 circuit-1037(π/12) ├┤1 circuit-1037(π/12) ├┤1 circuit-1037(π/12) ├»\n",
       "«      │                     ││                     ││                     │»\n",
       "«q2_4: ┤                     ├┤                     ├┤                     ├»\n",
       "«      │                     ││                     ││                     │»\n",
       "«q2_5: ┤2                    ├┤2                    ├┤2                    ├»\n",
       "«      └─────────────────────┘└─────────────────────┘└─────────────────────┘»\n",
       "«q2_6: ─────────────────────────────────────────────────────────────────────»\n",
       "«                                                                           »\n",
       "«c7: 3/═════════════════════════════════════════════════════════════════════»\n",
       "«                                                                           »\n",
       "«                              ░          \n",
       "«q2_0: ────────────────────────░──────────\n",
       "«      ┌─────────────────────┐ ░ ┌─┐      \n",
       "«q2_1: ┤0                    ├─░─┤M├──────\n",
       "«      │                     │ ░ └╥┘      \n",
       "«q2_2: ┤                     ├─░──╫───────\n",
       "«      │                     │ ░  ║ ┌─┐   \n",
       "«q2_3: ┤1 circuit-1037(π/12) ├─░──╫─┤M├───\n",
       "«      │                     │ ░  ║ └╥┘   \n",
       "«q2_4: ┤                     ├─░──╫──╫────\n",
       "«      │                     │ ░  ║  ║ ┌─┐\n",
       "«q2_5: ┤2                    ├─░──╫──╫─┤M├\n",
       "«      └─────────────────────┘ ░  ║  ║ └╥┘\n",
       "«q2_6: ────────────────────────░──╫──╫──╫─\n",
       "«                              ░  ║  ║  ║ \n",
       "«c7: 3/═══════════════════════════╩══╩══╩═\n",
       "«                                 0  1  2 </pre>"
      ],
      "text/plain": [
       "                                                         »\n",
       "q2_0: ───────────────────────────────────────────────────»\n",
       "           ┌─────────────────────┐┌─────────────────────┐»\n",
       "q2_1: ─────┤0                    ├┤0                    ├»\n",
       "           │                     ││                     │»\n",
       "q2_2: ─────┤                     ├┤                     ├»\n",
       "      ┌───┐│                     ││                     │»\n",
       "q2_3: ┤ X ├┤1 circuit-1037(π/12) ├┤1 circuit-1037(π/12) ├»\n",
       "      └───┘│                     ││                     │»\n",
       "q2_4: ─────┤                     ├┤                     ├»\n",
       "      ┌───┐│                     ││                     │»\n",
       "q2_5: ┤ X ├┤2                    ├┤2                    ├»\n",
       "      └───┘└─────────────────────┘└─────────────────────┘»\n",
       "q2_6: ───────────────────────────────────────────────────»\n",
       "                                                         »\n",
       "c7: 3/═══════════════════════════════════════════════════»\n",
       "                                                         »\n",
       "«                                                                           »\n",
       "«q2_0: ─────────────────────────────────────────────────────────────────────»\n",
       "«      ┌─────────────────────┐┌─────────────────────┐┌─────────────────────┐»\n",
       "«q2_1: ┤0                    ├┤0                    ├┤0                    ├»\n",
       "«      │                     ││                     ││                     │»\n",
       "«q2_2: ┤                     ├┤                     ├┤                     ├»\n",
       "«      │                     ││                     ││                     │»\n",
       "«q2_3: ┤1 circuit-1037(π/12) ├┤1 circuit-1037(π/12) ├┤1 circuit-1037(π/12) ├»\n",
       "«      │                     ││                     ││                     │»\n",
       "«q2_4: ┤                     ├┤                     ├┤                     ├»\n",
       "«      │                     ││                     ││                     │»\n",
       "«q2_5: ┤2                    ├┤2                    ├┤2                    ├»\n",
       "«      └─────────────────────┘└─────────────────────┘└─────────────────────┘»\n",
       "«q2_6: ─────────────────────────────────────────────────────────────────────»\n",
       "«                                                                           »\n",
       "«c7: 3/═════════════════════════════════════════════════════════════════════»\n",
       "«                                                                           »\n",
       "«                                                                           »\n",
       "«q2_0: ─────────────────────────────────────────────────────────────────────»\n",
       "«      ┌─────────────────────┐┌─────────────────────┐┌─────────────────────┐»\n",
       "«q2_1: ┤0                    ├┤0                    ├┤0                    ├»\n",
       "«      │                     ││                     ││                     │»\n",
       "«q2_2: ┤                     ├┤                     ├┤                     ├»\n",
       "«      │                     ││                     ││                     │»\n",
       "«q2_3: ┤1 circuit-1037(π/12) ├┤1 circuit-1037(π/12) ├┤1 circuit-1037(π/12) ├»\n",
       "«      │                     ││                     ││                     │»\n",
       "«q2_4: ┤                     ├┤                     ├┤                     ├»\n",
       "«      │                     ││                     ││                     │»\n",
       "«q2_5: ┤2                    ├┤2                    ├┤2                    ├»\n",
       "«      └─────────────────────┘└─────────────────────┘└─────────────────────┘»\n",
       "«q2_6: ─────────────────────────────────────────────────────────────────────»\n",
       "«                                                                           »\n",
       "«c7: 3/═════════════════════════════════════════════════════════════════════»\n",
       "«                                                                           »\n",
       "«                                                                           »\n",
       "«q2_0: ─────────────────────────────────────────────────────────────────────»\n",
       "«      ┌─────────────────────┐┌─────────────────────┐┌─────────────────────┐»\n",
       "«q2_1: ┤0                    ├┤0                    ├┤0                    ├»\n",
       "«      │                     ││                     ││                     │»\n",
       "«q2_2: ┤                     ├┤                     ├┤                     ├»\n",
       "«      │                     ││                     ││                     │»\n",
       "«q2_3: ┤1 circuit-1037(π/12) ├┤1 circuit-1037(π/12) ├┤1 circuit-1037(π/12) ├»\n",
       "«      │                     ││                     ││                     │»\n",
       "«q2_4: ┤                     ├┤                     ├┤                     ├»\n",
       "«      │                     ││                     ││                     │»\n",
       "«q2_5: ┤2                    ├┤2                    ├┤2                    ├»\n",
       "«      └─────────────────────┘└─────────────────────┘└─────────────────────┘»\n",
       "«q2_6: ─────────────────────────────────────────────────────────────────────»\n",
       "«                                                                           »\n",
       "«c7: 3/═════════════════════════════════════════════════════════════════════»\n",
       "«                                                                           »\n",
       "«                              ░          \n",
       "«q2_0: ────────────────────────░──────────\n",
       "«      ┌─────────────────────┐ ░ ┌─┐      \n",
       "«q2_1: ┤0                    ├─░─┤M├──────\n",
       "«      │                     │ ░ └╥┘      \n",
       "«q2_2: ┤                     ├─░──╫───────\n",
       "«      │                     │ ░  ║ ┌─┐   \n",
       "«q2_3: ┤1 circuit-1037(π/12) ├─░──╫─┤M├───\n",
       "«      │                     │ ░  ║ └╥┘   \n",
       "«q2_4: ┤                     ├─░──╫──╫────\n",
       "«      │                     │ ░  ║  ║ ┌─┐\n",
       "«q2_5: ┤2                    ├─░──╫──╫─┤M├\n",
       "«      └─────────────────────┘ ░  ║  ║ └╥┘\n",
       "«q2_6: ────────────────────────░──╫──╫──╫─\n",
       "«                              ░  ║  ║  ║ \n",
       "«c7: 3/═══════════════════════════╩══╩══╩═\n",
       "«                                 0  1  2 "
      ]
     },
     "execution_count": 184,
     "metadata": {},
     "output_type": "execute_result"
    }
   ],
   "source": [
    "#Generate state tomography circuitsto evaluate the fidelity of the simulation\n",
    "st_qcs = state_tomography_circuits(qc, [qr[1], qr[3], qr[5]])\n",
    "\n",
    "#Display circuit for confirmation\n",
    "st_qcs[-1].decompose().draw() #view decomposition of trotter gates\n",
    "st_qcs[-1].draw()"
   ]
  },
  {
   "cell_type": "code",
   "execution_count": 185,
   "id": "6016af62",
   "metadata": {},
   "outputs": [
    {
     "name": "stdout",
     "output_type": "stream",
     "text": [
      "Job ID 7e200ae4-7764-4b80-b2f3-978c90d607c4\n",
      "Job ID a08d0430-0cba-4b54-a974-e4eb8ac50386\n",
      "Job ID 02714728-9324-4e18-aa87-3d3caa229f1a\n",
      "Job ID 4ac4d30c-1daa-4ffc-a216-9eeaae6a783c\n",
      "Job ID 40b80c15-df3f-495d-995c-acefc3d91594\n",
      "Job ID 3488dd5d-fa54-4538-b4bb-02121cc5b80a\n",
      "Job ID 15a887bd-4037-418f-ac83-46ad94571969\n",
      "Job ID cd97bdef-41d3-418f-a449-85ba3460434c\n"
     ]
    }
   ],
   "source": [
    "shots = 8192\n",
    "reps = 8\n",
    "backend = sim_noisy_jakarta\n",
    "\n",
    "jobs = []\n",
    "for _ in range(reps):\n",
    "    job = execute(st_qcs, backend, shots = shots)\n",
    "    print('Job ID', job.job_id())\n",
    "    jobs.append(job)"
   ]
  },
  {
   "cell_type": "code",
   "execution_count": 186,
   "id": "d45324cf",
   "metadata": {},
   "outputs": [
    {
     "name": "stdout",
     "output_type": "stream",
     "text": [
      "\r",
      "Job Status: job has successfully run\n",
      "\r",
      "Job Status: job has successfully run\n",
      "\r",
      "Job Status: job has successfully run\n",
      "\r",
      "Job Status: job has successfully run\n",
      "\r",
      "Job Status: job has successfully run\n",
      "\r",
      "Job Status: job has successfully run\n",
      "\r",
      "Job Status: job has successfully run\n",
      "\r",
      "Job Status: job has successfully run\n"
     ]
    }
   ],
   "source": [
    "for job in jobs:\n",
    "    job_monitor(job)\n",
    "    try:\n",
    "        if job.error_message() is not None:\n",
    "            print(job.error_message())\n",
    "            \n",
    "    except:\n",
    "        pass"
   ]
  },
  {
   "cell_type": "markdown",
   "id": "1d545950",
   "metadata": {},
   "source": [
    "**3.1a) An improvement in the State Tomography Fidelity of the Noisy simulator**"
   ]
  },
  {
   "cell_type": "code",
   "execution_count": 187,
   "id": "74471ef6",
   "metadata": {},
   "outputs": [
    {
     "name": "stdout",
     "output_type": "stream",
     "text": [
      "State tomography fidelity = 0.4498 ± 0.0022\n"
     ]
    }
   ],
   "source": [
    "#Compute the state tomography based on the st_qcs quantum circuits and the results\n",
    "def state_tomo(result, st_qcs):\n",
    "    #The expected final state necessary to determine the state tomography fidelity\n",
    "    target_state = (One^One^Zero).to_matrix()\n",
    "    #Fit state tomography results\n",
    "    tomo_fitter = StateTomographyFitter(result, st_qcs)\n",
    "    rho_fit = tomo_fitter.fit(method = 'lstsq')\n",
    "    #Compute fidelity\n",
    "    fid = state_fidelity(rho_fit, target_state)\n",
    "    return fid\n",
    "\n",
    "#Compute tomography fidelities for each repitition\n",
    "fids = []\n",
    "for job in jobs:\n",
    "    fid = state_tomo(job.result(), st_qcs)\n",
    "    fids.append(fid)\n",
    "    \n",
    "print('State tomography fidelity = {:.4f} \\u00B1 {:.4f}'.format(np.mean(fids), np.std(fids)))"
   ]
  },
  {
   "cell_type": "markdown",
   "id": "19cc4950",
   "metadata": {},
   "source": [
    "**3.2)Simulating on real device**"
   ]
  },
  {
   "cell_type": "markdown",
   "id": "f653d4e6",
   "metadata": {},
   "source": [
    " This simulation is still queued and has not run yet."
   ]
  },
  {
   "cell_type": "code",
   "execution_count": 188,
   "id": "cc5b940c",
   "metadata": {},
   "outputs": [
    {
     "name": "stdout",
     "output_type": "stream",
     "text": [
      "Job ID 625b3db29e31154776838b0e\n",
      "Job ID 625b3dbfe1f245dd45eb6ca0\n",
      "Job ID 625b3dc79e3115f64a838b0f\n",
      "Job ID 625b3dcda7e9662c1edee82d\n",
      "Job ID 625b3dd5a7e9664cb2dee82e\n",
      "Job ID 625b3ddde1f2454ca1eb6ca2\n",
      "Job ID 625b3de48e4b230ca3d309df\n",
      "Job ID 625b3ded7368947840c8bca3\n"
     ]
    }
   ],
   "source": [
    "shots = 8192\n",
    "reps = 8\n",
    "backend = jakarta\n",
    "\n",
    "jobs = []\n",
    "for _ in range(reps):\n",
    "    job = execute(st_qcs, backend, shots = shots)\n",
    "    print('Job ID', job.job_id())\n",
    "    jobs.append(job)"
   ]
  },
  {
   "cell_type": "code",
   "execution_count": null,
   "id": "987256d2",
   "metadata": {},
   "outputs": [
    {
     "name": "stdout",
     "output_type": "stream",
     "text": [
      "Job Status: job is queued (1902)"
     ]
    }
   ],
   "source": [
    "for job in jobs:\n",
    "    job_monitor(job)\n",
    "    try:\n",
    "        if job.error_message() is not None:\n",
    "            print(job.error_message())\n",
    "            \n",
    "    except:\n",
    "        pass"
   ]
  },
  {
   "cell_type": "code",
   "execution_count": null,
   "id": "35337b1e",
   "metadata": {},
   "outputs": [],
   "source": [
    "#Compute the state tomography based on the st_qcs quantum circuits and the results\n",
    "def state_tomo(result, st_qcs):\n",
    "    #The expected final state necessary to determine the state tomography fidelity\n",
    "    target_state = (One^One^Zero).to_matrix()\n",
    "    #Fit state tomography results\n",
    "    tomo_fitter = StateTomographyFitter(result, st_qcs)\n",
    "    rho_fit = tomo_fitter.fit(method = 'lstsq')\n",
    "    #Compute fidelity\n",
    "    fid = state_fidelity(rho_fit, target_state)\n",
    "    return fid\n",
    "\n",
    "#Compute tomography fidelities for each repitition\n",
    "fids = []\n",
    "for job in jobs:\n",
    "    fid = state_tomo(job.result(), st_qcs)\n",
    "    fids.append(fid)\n",
    "    \n",
    "print('State tomography fidelity = {:.4f} \\u00B1 {:.4f}'.format(np.mean(fids), np.std(fids)))"
   ]
  },
  {
   "cell_type": "markdown",
   "id": "b04accda",
   "metadata": {},
   "source": [
    "**4) Conclusions:**"
   ]
  },
  {
   "cell_type": "markdown",
   "id": "0ab3849e",
   "metadata": {},
   "source": [
    "* For the 6-CNOT circuit we have observed that, even though we increase the Trotter steps, above a certain threshold the State Tomography Fidelity does not increase.<br>\n",
    "* Increasing the number of shots does not seem to have an effect on this behaviour.<br>\n",
    "* Changing the circuit to 3-CNOT type we observe a fidelity increase by nearly 1.7 times the earlier value, which is in agreement with required more than $30 \\%$.<br>\n",
    "* This clearly shows that reducing the number of CNOT entangling gate reduces the error and improves the fidelity.<br>\n",
    "* Furthermore increasing the Trotter steps also has an upper bound for the improvement in fidelity for the 3-CNOT circuit method.<br>\n",
    "* The error mitigation technique showed only a slight improvement in the fidelity."
   ]
  },
  {
   "cell_type": "code",
   "execution_count": null,
   "id": "a67d8cdc",
   "metadata": {},
   "outputs": [],
   "source": []
  }
 ],
 "metadata": {
  "kernelspec": {
   "display_name": "Python 3 (ipykernel)",
   "language": "python",
   "name": "python3"
  },
  "language_info": {
   "codemirror_mode": {
    "name": "ipython",
    "version": 3
   },
   "file_extension": ".py",
   "mimetype": "text/x-python",
   "name": "python",
   "nbconvert_exporter": "python",
   "pygments_lexer": "ipython3",
   "version": "3.9.7"
  }
 },
 "nbformat": 4,
 "nbformat_minor": 5
}
